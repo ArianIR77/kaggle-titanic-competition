{
 "cells": [
  {
   "cell_type": "code",
   "execution_count": 1,
   "id": "7e9bcd9a",
   "metadata": {
    "_cell_guid": "b1076dfc-b9ad-4769-8c92-a6c4dae69d19",
    "_uuid": "8f2839f25d086af736a60e9eeb907d3b93b6e0e5",
    "execution": {
     "iopub.execute_input": "2022-08-01T16:52:18.718666Z",
     "iopub.status.busy": "2022-08-01T16:52:18.718169Z",
     "iopub.status.idle": "2022-08-01T16:52:19.786180Z",
     "shell.execute_reply": "2022-08-01T16:52:19.785285Z"
    },
    "papermill": {
     "duration": 1.089753,
     "end_time": "2022-08-01T16:52:19.788718",
     "exception": false,
     "start_time": "2022-08-01T16:52:18.698965",
     "status": "completed"
    },
    "tags": []
   },
   "outputs": [],
   "source": [
    "import pandas as pd\n",
    "import numpy as np\n",
    "import matplotlib.pyplot as plt\n",
    "import seaborn as sns\n",
    "%matplotlib inline"
   ]
  },
  {
   "cell_type": "code",
   "execution_count": 2,
   "id": "798fe705",
   "metadata": {
    "execution": {
     "iopub.execute_input": "2022-08-01T16:52:19.819963Z",
     "iopub.status.busy": "2022-08-01T16:52:19.819582Z",
     "iopub.status.idle": "2022-08-01T16:52:19.835610Z",
     "shell.execute_reply": "2022-08-01T16:52:19.834765Z"
    },
    "papermill": {
     "duration": 0.034238,
     "end_time": "2022-08-01T16:52:19.837802",
     "exception": false,
     "start_time": "2022-08-01T16:52:19.803564",
     "status": "completed"
    },
    "tags": []
   },
   "outputs": [],
   "source": [
    "train=pd.read_csv('../input/titanic/train.csv')"
   ]
  },
  {
   "cell_type": "code",
   "execution_count": 3,
   "id": "361e1e7d",
   "metadata": {
    "execution": {
     "iopub.execute_input": "2022-08-01T16:52:19.867389Z",
     "iopub.status.busy": "2022-08-01T16:52:19.867018Z",
     "iopub.status.idle": "2022-08-01T16:52:19.878985Z",
     "shell.execute_reply": "2022-08-01T16:52:19.878005Z"
    },
    "papermill": {
     "duration": 0.029025,
     "end_time": "2022-08-01T16:52:19.881025",
     "exception": false,
     "start_time": "2022-08-01T16:52:19.852000",
     "status": "completed"
    },
    "tags": []
   },
   "outputs": [],
   "source": [
    "test=pd.read_csv('../input/titanic/test.csv') "
   ]
  },
  {
   "cell_type": "code",
   "execution_count": 4,
   "id": "27511687",
   "metadata": {
    "execution": {
     "iopub.execute_input": "2022-08-01T16:52:19.910208Z",
     "iopub.status.busy": "2022-08-01T16:52:19.909836Z",
     "iopub.status.idle": "2022-08-01T16:52:19.931519Z",
     "shell.execute_reply": "2022-08-01T16:52:19.930752Z"
    },
    "papermill": {
     "duration": 0.038804,
     "end_time": "2022-08-01T16:52:19.933729",
     "exception": false,
     "start_time": "2022-08-01T16:52:19.894925",
     "status": "completed"
    },
    "tags": []
   },
   "outputs": [
    {
     "data": {
      "text/html": [
       "<div>\n",
       "<style scoped>\n",
       "    .dataframe tbody tr th:only-of-type {\n",
       "        vertical-align: middle;\n",
       "    }\n",
       "\n",
       "    .dataframe tbody tr th {\n",
       "        vertical-align: top;\n",
       "    }\n",
       "\n",
       "    .dataframe thead th {\n",
       "        text-align: right;\n",
       "    }\n",
       "</style>\n",
       "<table border=\"1\" class=\"dataframe\">\n",
       "  <thead>\n",
       "    <tr style=\"text-align: right;\">\n",
       "      <th></th>\n",
       "      <th>PassengerId</th>\n",
       "      <th>Survived</th>\n",
       "      <th>Pclass</th>\n",
       "      <th>Name</th>\n",
       "      <th>Sex</th>\n",
       "      <th>Age</th>\n",
       "      <th>SibSp</th>\n",
       "      <th>Parch</th>\n",
       "      <th>Ticket</th>\n",
       "      <th>Fare</th>\n",
       "      <th>Cabin</th>\n",
       "      <th>Embarked</th>\n",
       "    </tr>\n",
       "  </thead>\n",
       "  <tbody>\n",
       "    <tr>\n",
       "      <th>0</th>\n",
       "      <td>1</td>\n",
       "      <td>0</td>\n",
       "      <td>3</td>\n",
       "      <td>Braund, Mr. Owen Harris</td>\n",
       "      <td>male</td>\n",
       "      <td>22.0</td>\n",
       "      <td>1</td>\n",
       "      <td>0</td>\n",
       "      <td>A/5 21171</td>\n",
       "      <td>7.2500</td>\n",
       "      <td>NaN</td>\n",
       "      <td>S</td>\n",
       "    </tr>\n",
       "    <tr>\n",
       "      <th>1</th>\n",
       "      <td>2</td>\n",
       "      <td>1</td>\n",
       "      <td>1</td>\n",
       "      <td>Cumings, Mrs. John Bradley (Florence Briggs Th...</td>\n",
       "      <td>female</td>\n",
       "      <td>38.0</td>\n",
       "      <td>1</td>\n",
       "      <td>0</td>\n",
       "      <td>PC 17599</td>\n",
       "      <td>71.2833</td>\n",
       "      <td>C85</td>\n",
       "      <td>C</td>\n",
       "    </tr>\n",
       "    <tr>\n",
       "      <th>2</th>\n",
       "      <td>3</td>\n",
       "      <td>1</td>\n",
       "      <td>3</td>\n",
       "      <td>Heikkinen, Miss. Laina</td>\n",
       "      <td>female</td>\n",
       "      <td>26.0</td>\n",
       "      <td>0</td>\n",
       "      <td>0</td>\n",
       "      <td>STON/O2. 3101282</td>\n",
       "      <td>7.9250</td>\n",
       "      <td>NaN</td>\n",
       "      <td>S</td>\n",
       "    </tr>\n",
       "    <tr>\n",
       "      <th>3</th>\n",
       "      <td>4</td>\n",
       "      <td>1</td>\n",
       "      <td>1</td>\n",
       "      <td>Futrelle, Mrs. Jacques Heath (Lily May Peel)</td>\n",
       "      <td>female</td>\n",
       "      <td>35.0</td>\n",
       "      <td>1</td>\n",
       "      <td>0</td>\n",
       "      <td>113803</td>\n",
       "      <td>53.1000</td>\n",
       "      <td>C123</td>\n",
       "      <td>S</td>\n",
       "    </tr>\n",
       "    <tr>\n",
       "      <th>4</th>\n",
       "      <td>5</td>\n",
       "      <td>0</td>\n",
       "      <td>3</td>\n",
       "      <td>Allen, Mr. William Henry</td>\n",
       "      <td>male</td>\n",
       "      <td>35.0</td>\n",
       "      <td>0</td>\n",
       "      <td>0</td>\n",
       "      <td>373450</td>\n",
       "      <td>8.0500</td>\n",
       "      <td>NaN</td>\n",
       "      <td>S</td>\n",
       "    </tr>\n",
       "  </tbody>\n",
       "</table>\n",
       "</div>"
      ],
      "text/plain": [
       "   PassengerId  Survived  Pclass  \\\n",
       "0            1         0       3   \n",
       "1            2         1       1   \n",
       "2            3         1       3   \n",
       "3            4         1       1   \n",
       "4            5         0       3   \n",
       "\n",
       "                                                Name     Sex   Age  SibSp  \\\n",
       "0                            Braund, Mr. Owen Harris    male  22.0      1   \n",
       "1  Cumings, Mrs. John Bradley (Florence Briggs Th...  female  38.0      1   \n",
       "2                             Heikkinen, Miss. Laina  female  26.0      0   \n",
       "3       Futrelle, Mrs. Jacques Heath (Lily May Peel)  female  35.0      1   \n",
       "4                           Allen, Mr. William Henry    male  35.0      0   \n",
       "\n",
       "   Parch            Ticket     Fare Cabin Embarked  \n",
       "0      0         A/5 21171   7.2500   NaN        S  \n",
       "1      0          PC 17599  71.2833   C85        C  \n",
       "2      0  STON/O2. 3101282   7.9250   NaN        S  \n",
       "3      0            113803  53.1000  C123        S  \n",
       "4      0            373450   8.0500   NaN        S  "
      ]
     },
     "execution_count": 4,
     "metadata": {},
     "output_type": "execute_result"
    }
   ],
   "source": [
    "train.head()"
   ]
  },
  {
   "cell_type": "code",
   "execution_count": 5,
   "id": "718f51f8",
   "metadata": {
    "execution": {
     "iopub.execute_input": "2022-08-01T16:52:19.964359Z",
     "iopub.status.busy": "2022-08-01T16:52:19.963364Z",
     "iopub.status.idle": "2022-08-01T16:52:19.971446Z",
     "shell.execute_reply": "2022-08-01T16:52:19.970749Z"
    },
    "papermill": {
     "duration": 0.024931,
     "end_time": "2022-08-01T16:52:19.973222",
     "exception": false,
     "start_time": "2022-08-01T16:52:19.948291",
     "status": "completed"
    },
    "tags": []
   },
   "outputs": [
    {
     "data": {
      "text/plain": [
       "PassengerId      0\n",
       "Survived         0\n",
       "Pclass           0\n",
       "Name             0\n",
       "Sex              0\n",
       "Age            177\n",
       "SibSp            0\n",
       "Parch            0\n",
       "Ticket           0\n",
       "Fare             0\n",
       "Cabin          687\n",
       "Embarked         2\n",
       "dtype: int64"
      ]
     },
     "execution_count": 5,
     "metadata": {},
     "output_type": "execute_result"
    }
   ],
   "source": [
    "train.isnull().sum() \n"
   ]
  },
  {
   "cell_type": "code",
   "execution_count": 6,
   "id": "b5c7c9b8",
   "metadata": {
    "execution": {
     "iopub.execute_input": "2022-08-01T16:52:20.004044Z",
     "iopub.status.busy": "2022-08-01T16:52:20.003113Z",
     "iopub.status.idle": "2022-08-01T16:52:20.188514Z",
     "shell.execute_reply": "2022-08-01T16:52:20.187456Z"
    },
    "papermill": {
     "duration": 0.203483,
     "end_time": "2022-08-01T16:52:20.190876",
     "exception": false,
     "start_time": "2022-08-01T16:52:19.987393",
     "status": "completed"
    },
    "tags": []
   },
   "outputs": [
    {
     "data": {
      "text/plain": [
       "<AxesSubplot:xlabel='Sex', ylabel='count'>"
      ]
     },
     "execution_count": 6,
     "metadata": {},
     "output_type": "execute_result"
    },
    {
     "data": {
      "image/png": "[encoded data removed]",
      "text/plain": [
       "<Figure size 432x288 with 1 Axes>"
      ]
     },
     "metadata": {
      "needs_background": "light"
     },
     "output_type": "display_data"
    }
   ],
   "source": [
    "sns.countplot(x='Sex', data=train)\n"
   ]
  },
  {
   "cell_type": "code",
   "execution_count": 7,
   "id": "498a9b99",
   "metadata": {
    "execution": {
     "iopub.execute_input": "2022-08-01T16:52:20.222748Z",
     "iopub.status.busy": "2022-08-01T16:52:20.222029Z",
     "iopub.status.idle": "2022-08-01T16:52:20.369948Z",
     "shell.execute_reply": "2022-08-01T16:52:20.368581Z"
    },
    "papermill": {
     "duration": 0.166327,
     "end_time": "2022-08-01T16:52:20.371936",
     "exception": false,
     "start_time": "2022-08-01T16:52:20.205609",
     "status": "completed"
    },
    "tags": []
   },
   "outputs": [
    {
     "data": {
      "text/plain": [
       "<AxesSubplot:xlabel='Pclass', ylabel='count'>"
      ]
     },
     "execution_count": 7,
     "metadata": {},
     "output_type": "execute_result"
    },
    {
     "data": {
      "image/png": "[encoded data removed]",
      "text/plain": [
       "<Figure size 432x288 with 1 Axes>"
      ]
     },
     "metadata": {
      "needs_background": "light"
     },
     "output_type": "display_data"
    }
   ],
   "source": [
    "sns.countplot(x='Pclass', data=train)\n"
   ]
  },
  {
   "cell_type": "code",
   "execution_count": 8,
   "id": "d74b2782",
   "metadata": {
    "execution": {
     "iopub.execute_input": "2022-08-01T16:52:20.404122Z",
     "iopub.status.busy": "2022-08-01T16:52:20.403569Z",
     "iopub.status.idle": "2022-08-01T16:52:20.556882Z",
     "shell.execute_reply": "2022-08-01T16:52:20.555915Z"
    },
    "papermill": {
     "duration": 0.171747,
     "end_time": "2022-08-01T16:52:20.558873",
     "exception": false,
     "start_time": "2022-08-01T16:52:20.387126",
     "status": "completed"
    },
    "tags": []
   },
   "outputs": [
    {
     "data": {
      "text/plain": [
       "<AxesSubplot:xlabel='Embarked', ylabel='count'>"
      ]
     },
     "execution_count": 8,
     "metadata": {},
     "output_type": "execute_result"
    },
    {
     "data": {
      "image/png": "[encoded data removed]",
      "text/plain": [
       "<Figure size 432x288 with 1 Axes>"
      ]
     },
     "metadata": {
      "needs_background": "light"
     },
     "output_type": "display_data"
    }
   ],
   "source": [
    "sns.countplot(x='Embarked', data=train)\n"
   ]
  },
  {
   "cell_type": "code",
   "execution_count": 9,
   "id": "cf6024ed",
   "metadata": {
    "execution": {
     "iopub.execute_input": "2022-08-01T16:52:20.591448Z",
     "iopub.status.busy": "2022-08-01T16:52:20.590380Z",
     "iopub.status.idle": "2022-08-01T16:52:20.763017Z",
     "shell.execute_reply": "2022-08-01T16:52:20.762027Z"
    },
    "papermill": {
     "duration": 0.19128,
     "end_time": "2022-08-01T16:52:20.765393",
     "exception": false,
     "start_time": "2022-08-01T16:52:20.574113",
     "status": "completed"
    },
    "tags": []
   },
   "outputs": [
    {
     "data": {
      "text/plain": [
       "<AxesSubplot:xlabel='SibSp', ylabel='count'>"
      ]
     },
     "execution_count": 9,
     "metadata": {},
     "output_type": "execute_result"
    },
    {
     "data": {
      "image/png": "[encoded data removed]",
      "text/plain": [
       "<Figure size 432x288 with 1 Axes>"
      ]
     },
     "metadata": {
      "needs_background": "light"
     },
     "output_type": "display_data"
    }
   ],
   "source": [
    "sns.countplot(x='SibSp', data=train)"
   ]
  },
  {
   "cell_type": "code",
   "execution_count": 10,
   "id": "e1462845",
   "metadata": {
    "execution": {
     "iopub.execute_input": "2022-08-01T16:52:20.798317Z",
     "iopub.status.busy": "2022-08-01T16:52:20.797954Z",
     "iopub.status.idle": "2022-08-01T16:52:20.802915Z",
     "shell.execute_reply": "2022-08-01T16:52:20.802148Z"
    },
    "papermill": {
     "duration": 0.023919,
     "end_time": "2022-08-01T16:52:20.804784",
     "exception": false,
     "start_time": "2022-08-01T16:52:20.780865",
     "status": "completed"
    },
    "tags": []
   },
   "outputs": [],
   "source": [
    "train['Died'] = 1 - train['Survived']\n"
   ]
  },
  {
   "cell_type": "code",
   "execution_count": 11,
   "id": "3b24a109",
   "metadata": {
    "execution": {
     "iopub.execute_input": "2022-08-01T16:52:20.837965Z",
     "iopub.status.busy": "2022-08-01T16:52:20.837369Z",
     "iopub.status.idle": "2022-08-01T16:52:21.050623Z",
     "shell.execute_reply": "2022-08-01T16:52:21.049593Z"
    },
    "papermill": {
     "duration": 0.232887,
     "end_time": "2022-08-01T16:52:21.053151",
     "exception": false,
     "start_time": "2022-08-01T16:52:20.820264",
     "status": "completed"
    },
    "tags": []
   },
   "outputs": [
    {
     "data": {
      "text/plain": [
       "<AxesSubplot:xlabel='Sex'>"
      ]
     },
     "execution_count": 11,
     "metadata": {},
     "output_type": "execute_result"
    },
    {
     "data": {
      "image/png": "[encoded data removed]",
      "text/plain": [
       "<Figure size 720x360 with 1 Axes>"
      ]
     },
     "metadata": {
      "needs_background": "light"
     },
     "output_type": "display_data"
    }
   ],
   "source": [
    "train.groupby('Sex')[['Survived', 'Died']].sum().plot(kind='bar',\n",
    "                                                           figsize=(10, 5),\n",
    "                                                           stacked=True)"
   ]
  },
  {
   "cell_type": "code",
   "execution_count": 12,
   "id": "336f92a7",
   "metadata": {
    "execution": {
     "iopub.execute_input": "2022-08-01T16:52:21.089845Z",
     "iopub.status.busy": "2022-08-01T16:52:21.088813Z",
     "iopub.status.idle": "2022-08-01T16:52:21.098369Z",
     "shell.execute_reply": "2022-08-01T16:52:21.097080Z"
    },
    "papermill": {
     "duration": 0.030176,
     "end_time": "2022-08-01T16:52:21.100700",
     "exception": false,
     "start_time": "2022-08-01T16:52:21.070524",
     "status": "completed"
    },
    "tags": []
   },
   "outputs": [
    {
     "data": {
      "text/plain": [
       "0                                Braund, Mr. Owen Harris\n",
       "1      Cumings, Mrs. John Bradley (Florence Briggs Th...\n",
       "2                                 Heikkinen, Miss. Laina\n",
       "3           Futrelle, Mrs. Jacques Heath (Lily May Peel)\n",
       "4                               Allen, Mr. William Henry\n",
       "                             ...                        \n",
       "886                                Montvila, Rev. Juozas\n",
       "887                         Graham, Miss. Margaret Edith\n",
       "888             Johnston, Miss. Catherine Helen \"Carrie\"\n",
       "889                                Behr, Mr. Karl Howell\n",
       "890                                  Dooley, Mr. Patrick\n",
       "Name: Name, Length: 891, dtype: object"
      ]
     },
     "execution_count": 12,
     "metadata": {},
     "output_type": "execute_result"
    }
   ],
   "source": [
    "train['Name']"
   ]
  },
  {
   "cell_type": "code",
   "execution_count": 13,
   "id": "6be20144",
   "metadata": {
    "execution": {
     "iopub.execute_input": "2022-08-01T16:52:21.134950Z",
     "iopub.status.busy": "2022-08-01T16:52:21.133955Z",
     "iopub.status.idle": "2022-08-01T16:52:21.141142Z",
     "shell.execute_reply": "2022-08-01T16:52:21.140405Z"
    },
    "papermill": {
     "duration": 0.026242,
     "end_time": "2022-08-01T16:52:21.143154",
     "exception": false,
     "start_time": "2022-08-01T16:52:21.116912",
     "status": "completed"
    },
    "tags": []
   },
   "outputs": [
    {
     "data": {
      "text/plain": [
       "' Mrs'"
      ]
     },
     "execution_count": 13,
     "metadata": {},
     "output_type": "execute_result"
    }
   ],
   "source": [
    "train['Name'][1].split(',')[1].split('.')[0]"
   ]
  },
  {
   "cell_type": "code",
   "execution_count": 14,
   "id": "963ab719",
   "metadata": {
    "execution": {
     "iopub.execute_input": "2022-08-01T16:52:21.178529Z",
     "iopub.status.busy": "2022-08-01T16:52:21.177183Z",
     "iopub.status.idle": "2022-08-01T16:52:21.184672Z",
     "shell.execute_reply": "2022-08-01T16:52:21.183778Z"
    },
    "papermill": {
     "duration": 0.027185,
     "end_time": "2022-08-01T16:52:21.186899",
     "exception": false,
     "start_time": "2022-08-01T16:52:21.159714",
     "status": "completed"
    },
    "tags": []
   },
   "outputs": [],
   "source": [
    "train['Title']=train['Name'].apply(lambda x : x.split(',')[1].split('.')[0])"
   ]
  },
  {
   "cell_type": "code",
   "execution_count": 15,
   "id": "05ba1eb4",
   "metadata": {
    "execution": {
     "iopub.execute_input": "2022-08-01T16:52:21.220986Z",
     "iopub.status.busy": "2022-08-01T16:52:21.220240Z",
     "iopub.status.idle": "2022-08-01T16:52:21.237144Z",
     "shell.execute_reply": "2022-08-01T16:52:21.236078Z"
    },
    "papermill": {
     "duration": 0.036408,
     "end_time": "2022-08-01T16:52:21.239184",
     "exception": false,
     "start_time": "2022-08-01T16:52:21.202776",
     "status": "completed"
    },
    "tags": []
   },
   "outputs": [
    {
     "data": {
      "text/html": [
       "<div>\n",
       "<style scoped>\n",
       "    .dataframe tbody tr th:only-of-type {\n",
       "        vertical-align: middle;\n",
       "    }\n",
       "\n",
       "    .dataframe tbody tr th {\n",
       "        vertical-align: top;\n",
       "    }\n",
       "\n",
       "    .dataframe thead th {\n",
       "        text-align: right;\n",
       "    }\n",
       "</style>\n",
       "<table border=\"1\" class=\"dataframe\">\n",
       "  <thead>\n",
       "    <tr style=\"text-align: right;\">\n",
       "      <th></th>\n",
       "      <th>PassengerId</th>\n",
       "      <th>Survived</th>\n",
       "      <th>Pclass</th>\n",
       "      <th>Name</th>\n",
       "      <th>Sex</th>\n",
       "      <th>Age</th>\n",
       "      <th>SibSp</th>\n",
       "      <th>Parch</th>\n",
       "      <th>Ticket</th>\n",
       "      <th>Fare</th>\n",
       "      <th>Cabin</th>\n",
       "      <th>Embarked</th>\n",
       "      <th>Died</th>\n",
       "      <th>Title</th>\n",
       "    </tr>\n",
       "  </thead>\n",
       "  <tbody>\n",
       "    <tr>\n",
       "      <th>0</th>\n",
       "      <td>1</td>\n",
       "      <td>0</td>\n",
       "      <td>3</td>\n",
       "      <td>Braund, Mr. Owen Harris</td>\n",
       "      <td>male</td>\n",
       "      <td>22.0</td>\n",
       "      <td>1</td>\n",
       "      <td>0</td>\n",
       "      <td>A/5 21171</td>\n",
       "      <td>7.2500</td>\n",
       "      <td>NaN</td>\n",
       "      <td>S</td>\n",
       "      <td>1</td>\n",
       "      <td>Mr</td>\n",
       "    </tr>\n",
       "    <tr>\n",
       "      <th>1</th>\n",
       "      <td>2</td>\n",
       "      <td>1</td>\n",
       "      <td>1</td>\n",
       "      <td>Cumings, Mrs. John Bradley (Florence Briggs Th...</td>\n",
       "      <td>female</td>\n",
       "      <td>38.0</td>\n",
       "      <td>1</td>\n",
       "      <td>0</td>\n",
       "      <td>PC 17599</td>\n",
       "      <td>71.2833</td>\n",
       "      <td>C85</td>\n",
       "      <td>C</td>\n",
       "      <td>0</td>\n",
       "      <td>Mrs</td>\n",
       "    </tr>\n",
       "    <tr>\n",
       "      <th>2</th>\n",
       "      <td>3</td>\n",
       "      <td>1</td>\n",
       "      <td>3</td>\n",
       "      <td>Heikkinen, Miss. Laina</td>\n",
       "      <td>female</td>\n",
       "      <td>26.0</td>\n",
       "      <td>0</td>\n",
       "      <td>0</td>\n",
       "      <td>STON/O2. 3101282</td>\n",
       "      <td>7.9250</td>\n",
       "      <td>NaN</td>\n",
       "      <td>S</td>\n",
       "      <td>0</td>\n",
       "      <td>Miss</td>\n",
       "    </tr>\n",
       "    <tr>\n",
       "      <th>3</th>\n",
       "      <td>4</td>\n",
       "      <td>1</td>\n",
       "      <td>1</td>\n",
       "      <td>Futrelle, Mrs. Jacques Heath (Lily May Peel)</td>\n",
       "      <td>female</td>\n",
       "      <td>35.0</td>\n",
       "      <td>1</td>\n",
       "      <td>0</td>\n",
       "      <td>113803</td>\n",
       "      <td>53.1000</td>\n",
       "      <td>C123</td>\n",
       "      <td>S</td>\n",
       "      <td>0</td>\n",
       "      <td>Mrs</td>\n",
       "    </tr>\n",
       "    <tr>\n",
       "      <th>4</th>\n",
       "      <td>5</td>\n",
       "      <td>0</td>\n",
       "      <td>3</td>\n",
       "      <td>Allen, Mr. William Henry</td>\n",
       "      <td>male</td>\n",
       "      <td>35.0</td>\n",
       "      <td>0</td>\n",
       "      <td>0</td>\n",
       "      <td>373450</td>\n",
       "      <td>8.0500</td>\n",
       "      <td>NaN</td>\n",
       "      <td>S</td>\n",
       "      <td>1</td>\n",
       "      <td>Mr</td>\n",
       "    </tr>\n",
       "  </tbody>\n",
       "</table>\n",
       "</div>"
      ],
      "text/plain": [
       "   PassengerId  Survived  Pclass  \\\n",
       "0            1         0       3   \n",
       "1            2         1       1   \n",
       "2            3         1       3   \n",
       "3            4         1       1   \n",
       "4            5         0       3   \n",
       "\n",
       "                                                Name     Sex   Age  SibSp  \\\n",
       "0                            Braund, Mr. Owen Harris    male  22.0      1   \n",
       "1  Cumings, Mrs. John Bradley (Florence Briggs Th...  female  38.0      1   \n",
       "2                             Heikkinen, Miss. Laina  female  26.0      0   \n",
       "3       Futrelle, Mrs. Jacques Heath (Lily May Peel)  female  35.0      1   \n",
       "4                           Allen, Mr. William Henry    male  35.0      0   \n",
       "\n",
       "   Parch            Ticket     Fare Cabin Embarked  Died  Title  \n",
       "0      0         A/5 21171   7.2500   NaN        S     1     Mr  \n",
       "1      0          PC 17599  71.2833   C85        C     0    Mrs  \n",
       "2      0  STON/O2. 3101282   7.9250   NaN        S     0   Miss  \n",
       "3      0            113803  53.1000  C123        S     0    Mrs  \n",
       "4      0            373450   8.0500   NaN        S     1     Mr  "
      ]
     },
     "execution_count": 15,
     "metadata": {},
     "output_type": "execute_result"
    }
   ],
   "source": [
    "train.head()"
   ]
  },
  {
   "cell_type": "code",
   "execution_count": 16,
   "id": "9c39eed2",
   "metadata": {
    "execution": {
     "iopub.execute_input": "2022-08-01T16:52:21.274284Z",
     "iopub.status.busy": "2022-08-01T16:52:21.273555Z",
     "iopub.status.idle": "2022-08-01T16:52:21.281824Z",
     "shell.execute_reply": "2022-08-01T16:52:21.280908Z"
    },
    "papermill": {
     "duration": 0.028057,
     "end_time": "2022-08-01T16:52:21.283836",
     "exception": false,
     "start_time": "2022-08-01T16:52:21.255779",
     "status": "completed"
    },
    "tags": []
   },
   "outputs": [
    {
     "data": {
      "text/plain": [
       " Mr              517\n",
       " Miss            182\n",
       " Mrs             125\n",
       " Master           40\n",
       " Dr                7\n",
       " Rev               6\n",
       " Mlle              2\n",
       " Major             2\n",
       " Col               2\n",
       " the Countess      1\n",
       " Capt              1\n",
       " Ms                1\n",
       " Sir               1\n",
       " Lady              1\n",
       " Mme               1\n",
       " Don               1\n",
       " Jonkheer          1\n",
       "Name: Title, dtype: int64"
      ]
     },
     "execution_count": 16,
     "metadata": {},
     "output_type": "execute_result"
    }
   ],
   "source": [
    "train['Title'].value_counts()"
   ]
  },
  {
   "cell_type": "code",
   "execution_count": 17,
   "id": "fed2700b",
   "metadata": {
    "execution": {
     "iopub.execute_input": "2022-08-01T16:52:21.318737Z",
     "iopub.status.busy": "2022-08-01T16:52:21.318017Z",
     "iopub.status.idle": "2022-08-01T16:52:21.323567Z",
     "shell.execute_reply": "2022-08-01T16:52:21.322866Z"
    },
    "papermill": {
     "duration": 0.0254,
     "end_time": "2022-08-01T16:52:21.325510",
     "exception": false,
     "start_time": "2022-08-01T16:52:21.300110",
     "status": "completed"
    },
    "tags": []
   },
   "outputs": [],
   "source": [
    "Title_Dictionary = {\" Capt\": \"Officer\",\" Col\": \"Officer\",\" Major\": \"Officer\",\" Jonkheer\": \"Royalty\",\n",
    "                    \" Don\": \"Royalty\",\" Sir\" : \"Royalty\",\n",
    "                    \" Dr\": \"Officer\",\" Rev\": \"Officer\",\" the Countess\":\"Royalty\",\" Mme\": \"Mrs\",\" Mlle\": \"Miss\",\n",
    "                    \" Ms\": \"Mrs\",\" Mr\" : \"Mr\",\" Mrs\" : \"Mrs\",\" Miss\" : \"Miss\",\" Master\" : \"Master\",\" Lady\" : \"Royalty\"}"
   ]
  },
  {
   "cell_type": "code",
   "execution_count": 18,
   "id": "5cdbfc03",
   "metadata": {
    "execution": {
     "iopub.execute_input": "2022-08-01T16:52:21.360041Z",
     "iopub.status.busy": "2022-08-01T16:52:21.359308Z",
     "iopub.status.idle": "2022-08-01T16:52:21.365439Z",
     "shell.execute_reply": "2022-08-01T16:52:21.364722Z"
    },
    "papermill": {
     "duration": 0.025873,
     "end_time": "2022-08-01T16:52:21.367480",
     "exception": false,
     "start_time": "2022-08-01T16:52:21.341607",
     "status": "completed"
    },
    "tags": []
   },
   "outputs": [],
   "source": [
    "train['Title']=train['Title'].map(Title_Dictionary)"
   ]
  },
  {
   "cell_type": "code",
   "execution_count": 19,
   "id": "65df4cc2",
   "metadata": {
    "execution": {
     "iopub.execute_input": "2022-08-01T16:52:21.401490Z",
     "iopub.status.busy": "2022-08-01T16:52:21.401092Z",
     "iopub.status.idle": "2022-08-01T16:52:21.409076Z",
     "shell.execute_reply": "2022-08-01T16:52:21.407978Z"
    },
    "papermill": {
     "duration": 0.027659,
     "end_time": "2022-08-01T16:52:21.411181",
     "exception": false,
     "start_time": "2022-08-01T16:52:21.383522",
     "status": "completed"
    },
    "tags": []
   },
   "outputs": [
    {
     "data": {
      "text/plain": [
       "Mr         517\n",
       "Miss       184\n",
       "Mrs        127\n",
       "Master      40\n",
       "Officer     18\n",
       "Royalty      5\n",
       "Name: Title, dtype: int64"
      ]
     },
     "execution_count": 19,
     "metadata": {},
     "output_type": "execute_result"
    }
   ],
   "source": [
    "train['Title'].value_counts()"
   ]
  },
  {
   "cell_type": "code",
   "execution_count": 20,
   "id": "134b795f",
   "metadata": {
    "execution": {
     "iopub.execute_input": "2022-08-01T16:52:21.445411Z",
     "iopub.status.busy": "2022-08-01T16:52:21.444701Z",
     "iopub.status.idle": "2022-08-01T16:52:21.450868Z",
     "shell.execute_reply": "2022-08-01T16:52:21.450174Z"
    },
    "papermill": {
     "duration": 0.025596,
     "end_time": "2022-08-01T16:52:21.452834",
     "exception": false,
     "start_time": "2022-08-01T16:52:21.427238",
     "status": "completed"
    },
    "tags": []
   },
   "outputs": [],
   "source": [
    "df1=train.drop(['Name','Ticket','Cabin','PassengerId','Died'], axis=1)\n"
   ]
  },
  {
   "cell_type": "code",
   "execution_count": 21,
   "id": "bb2db2bf",
   "metadata": {
    "execution": {
     "iopub.execute_input": "2022-08-01T16:52:21.487354Z",
     "iopub.status.busy": "2022-08-01T16:52:21.486629Z",
     "iopub.status.idle": "2022-08-01T16:52:21.500724Z",
     "shell.execute_reply": "2022-08-01T16:52:21.499691Z"
    },
    "papermill": {
     "duration": 0.0339,
     "end_time": "2022-08-01T16:52:21.502810",
     "exception": false,
     "start_time": "2022-08-01T16:52:21.468910",
     "status": "completed"
    },
    "tags": []
   },
   "outputs": [
    {
     "data": {
      "text/html": [
       "<div>\n",
       "<style scoped>\n",
       "    .dataframe tbody tr th:only-of-type {\n",
       "        vertical-align: middle;\n",
       "    }\n",
       "\n",
       "    .dataframe tbody tr th {\n",
       "        vertical-align: top;\n",
       "    }\n",
       "\n",
       "    .dataframe thead th {\n",
       "        text-align: right;\n",
       "    }\n",
       "</style>\n",
       "<table border=\"1\" class=\"dataframe\">\n",
       "  <thead>\n",
       "    <tr style=\"text-align: right;\">\n",
       "      <th></th>\n",
       "      <th>Survived</th>\n",
       "      <th>Pclass</th>\n",
       "      <th>Sex</th>\n",
       "      <th>Age</th>\n",
       "      <th>SibSp</th>\n",
       "      <th>Parch</th>\n",
       "      <th>Fare</th>\n",
       "      <th>Embarked</th>\n",
       "      <th>Title</th>\n",
       "    </tr>\n",
       "  </thead>\n",
       "  <tbody>\n",
       "    <tr>\n",
       "      <th>0</th>\n",
       "      <td>0</td>\n",
       "      <td>3</td>\n",
       "      <td>male</td>\n",
       "      <td>22.0</td>\n",
       "      <td>1</td>\n",
       "      <td>0</td>\n",
       "      <td>7.2500</td>\n",
       "      <td>S</td>\n",
       "      <td>Mr</td>\n",
       "    </tr>\n",
       "    <tr>\n",
       "      <th>1</th>\n",
       "      <td>1</td>\n",
       "      <td>1</td>\n",
       "      <td>female</td>\n",
       "      <td>38.0</td>\n",
       "      <td>1</td>\n",
       "      <td>0</td>\n",
       "      <td>71.2833</td>\n",
       "      <td>C</td>\n",
       "      <td>Mrs</td>\n",
       "    </tr>\n",
       "    <tr>\n",
       "      <th>2</th>\n",
       "      <td>1</td>\n",
       "      <td>3</td>\n",
       "      <td>female</td>\n",
       "      <td>26.0</td>\n",
       "      <td>0</td>\n",
       "      <td>0</td>\n",
       "      <td>7.9250</td>\n",
       "      <td>S</td>\n",
       "      <td>Miss</td>\n",
       "    </tr>\n",
       "    <tr>\n",
       "      <th>3</th>\n",
       "      <td>1</td>\n",
       "      <td>1</td>\n",
       "      <td>female</td>\n",
       "      <td>35.0</td>\n",
       "      <td>1</td>\n",
       "      <td>0</td>\n",
       "      <td>53.1000</td>\n",
       "      <td>S</td>\n",
       "      <td>Mrs</td>\n",
       "    </tr>\n",
       "    <tr>\n",
       "      <th>4</th>\n",
       "      <td>0</td>\n",
       "      <td>3</td>\n",
       "      <td>male</td>\n",
       "      <td>35.0</td>\n",
       "      <td>0</td>\n",
       "      <td>0</td>\n",
       "      <td>8.0500</td>\n",
       "      <td>S</td>\n",
       "      <td>Mr</td>\n",
       "    </tr>\n",
       "  </tbody>\n",
       "</table>\n",
       "</div>"
      ],
      "text/plain": [
       "   Survived  Pclass     Sex   Age  SibSp  Parch     Fare Embarked Title\n",
       "0         0       3    male  22.0      1      0   7.2500        S    Mr\n",
       "1         1       1  female  38.0      1      0  71.2833        C   Mrs\n",
       "2         1       3  female  26.0      0      0   7.9250        S  Miss\n",
       "3         1       1  female  35.0      1      0  53.1000        S   Mrs\n",
       "4         0       3    male  35.0      0      0   8.0500        S    Mr"
      ]
     },
     "execution_count": 21,
     "metadata": {},
     "output_type": "execute_result"
    }
   ],
   "source": [
    "df1.head()"
   ]
  },
  {
   "cell_type": "code",
   "execution_count": 22,
   "id": "0ed61aed",
   "metadata": {
    "execution": {
     "iopub.execute_input": "2022-08-01T16:52:21.538033Z",
     "iopub.status.busy": "2022-08-01T16:52:21.537284Z",
     "iopub.status.idle": "2022-08-01T16:52:21.546305Z",
     "shell.execute_reply": "2022-08-01T16:52:21.545629Z"
    },
    "papermill": {
     "duration": 0.029093,
     "end_time": "2022-08-01T16:52:21.548426",
     "exception": false,
     "start_time": "2022-08-01T16:52:21.519333",
     "status": "completed"
    },
    "tags": []
   },
   "outputs": [],
   "source": [
    "dummies = pd.get_dummies(df1[['Sex','Title']], drop_first= True)"
   ]
  },
  {
   "cell_type": "code",
   "execution_count": 23,
   "id": "5bf392e3",
   "metadata": {
    "execution": {
     "iopub.execute_input": "2022-08-01T16:52:21.583175Z",
     "iopub.status.busy": "2022-08-01T16:52:21.582420Z",
     "iopub.status.idle": "2022-08-01T16:52:21.588788Z",
     "shell.execute_reply": "2022-08-01T16:52:21.588043Z"
    },
    "papermill": {
     "duration": 0.026091,
     "end_time": "2022-08-01T16:52:21.590811",
     "exception": false,
     "start_time": "2022-08-01T16:52:21.564720",
     "status": "completed"
    },
    "tags": []
   },
   "outputs": [],
   "source": [
    "df1 = pd.concat([df1, dummies], axis=1)"
   ]
  },
  {
   "cell_type": "code",
   "execution_count": 24,
   "id": "0c3c72e6",
   "metadata": {
    "execution": {
     "iopub.execute_input": "2022-08-01T16:52:21.625468Z",
     "iopub.status.busy": "2022-08-01T16:52:21.624753Z",
     "iopub.status.idle": "2022-08-01T16:52:21.639880Z",
     "shell.execute_reply": "2022-08-01T16:52:21.638857Z"
    },
    "papermill": {
     "duration": 0.034843,
     "end_time": "2022-08-01T16:52:21.641907",
     "exception": false,
     "start_time": "2022-08-01T16:52:21.607064",
     "status": "completed"
    },
    "tags": []
   },
   "outputs": [
    {
     "data": {
      "text/html": [
       "<div>\n",
       "<style scoped>\n",
       "    .dataframe tbody tr th:only-of-type {\n",
       "        vertical-align: middle;\n",
       "    }\n",
       "\n",
       "    .dataframe tbody tr th {\n",
       "        vertical-align: top;\n",
       "    }\n",
       "\n",
       "    .dataframe thead th {\n",
       "        text-align: right;\n",
       "    }\n",
       "</style>\n",
       "<table border=\"1\" class=\"dataframe\">\n",
       "  <thead>\n",
       "    <tr style=\"text-align: right;\">\n",
       "      <th></th>\n",
       "      <th>Survived</th>\n",
       "      <th>Pclass</th>\n",
       "      <th>Sex</th>\n",
       "      <th>Age</th>\n",
       "      <th>SibSp</th>\n",
       "      <th>Parch</th>\n",
       "      <th>Fare</th>\n",
       "      <th>Embarked</th>\n",
       "      <th>Title</th>\n",
       "      <th>Sex_male</th>\n",
       "      <th>Title_Miss</th>\n",
       "      <th>Title_Mr</th>\n",
       "      <th>Title_Mrs</th>\n",
       "      <th>Title_Officer</th>\n",
       "      <th>Title_Royalty</th>\n",
       "    </tr>\n",
       "  </thead>\n",
       "  <tbody>\n",
       "    <tr>\n",
       "      <th>0</th>\n",
       "      <td>0</td>\n",
       "      <td>3</td>\n",
       "      <td>male</td>\n",
       "      <td>22.0</td>\n",
       "      <td>1</td>\n",
       "      <td>0</td>\n",
       "      <td>7.2500</td>\n",
       "      <td>S</td>\n",
       "      <td>Mr</td>\n",
       "      <td>1</td>\n",
       "      <td>0</td>\n",
       "      <td>1</td>\n",
       "      <td>0</td>\n",
       "      <td>0</td>\n",
       "      <td>0</td>\n",
       "    </tr>\n",
       "    <tr>\n",
       "      <th>1</th>\n",
       "      <td>1</td>\n",
       "      <td>1</td>\n",
       "      <td>female</td>\n",
       "      <td>38.0</td>\n",
       "      <td>1</td>\n",
       "      <td>0</td>\n",
       "      <td>71.2833</td>\n",
       "      <td>C</td>\n",
       "      <td>Mrs</td>\n",
       "      <td>0</td>\n",
       "      <td>0</td>\n",
       "      <td>0</td>\n",
       "      <td>1</td>\n",
       "      <td>0</td>\n",
       "      <td>0</td>\n",
       "    </tr>\n",
       "    <tr>\n",
       "      <th>2</th>\n",
       "      <td>1</td>\n",
       "      <td>3</td>\n",
       "      <td>female</td>\n",
       "      <td>26.0</td>\n",
       "      <td>0</td>\n",
       "      <td>0</td>\n",
       "      <td>7.9250</td>\n",
       "      <td>S</td>\n",
       "      <td>Miss</td>\n",
       "      <td>0</td>\n",
       "      <td>1</td>\n",
       "      <td>0</td>\n",
       "      <td>0</td>\n",
       "      <td>0</td>\n",
       "      <td>0</td>\n",
       "    </tr>\n",
       "    <tr>\n",
       "      <th>3</th>\n",
       "      <td>1</td>\n",
       "      <td>1</td>\n",
       "      <td>female</td>\n",
       "      <td>35.0</td>\n",
       "      <td>1</td>\n",
       "      <td>0</td>\n",
       "      <td>53.1000</td>\n",
       "      <td>S</td>\n",
       "      <td>Mrs</td>\n",
       "      <td>0</td>\n",
       "      <td>0</td>\n",
       "      <td>0</td>\n",
       "      <td>1</td>\n",
       "      <td>0</td>\n",
       "      <td>0</td>\n",
       "    </tr>\n",
       "    <tr>\n",
       "      <th>4</th>\n",
       "      <td>0</td>\n",
       "      <td>3</td>\n",
       "      <td>male</td>\n",
       "      <td>35.0</td>\n",
       "      <td>0</td>\n",
       "      <td>0</td>\n",
       "      <td>8.0500</td>\n",
       "      <td>S</td>\n",
       "      <td>Mr</td>\n",
       "      <td>1</td>\n",
       "      <td>0</td>\n",
       "      <td>1</td>\n",
       "      <td>0</td>\n",
       "      <td>0</td>\n",
       "      <td>0</td>\n",
       "    </tr>\n",
       "  </tbody>\n",
       "</table>\n",
       "</div>"
      ],
      "text/plain": [
       "   Survived  Pclass     Sex   Age  SibSp  Parch     Fare Embarked Title  \\\n",
       "0         0       3    male  22.0      1      0   7.2500        S    Mr   \n",
       "1         1       1  female  38.0      1      0  71.2833        C   Mrs   \n",
       "2         1       3  female  26.0      0      0   7.9250        S  Miss   \n",
       "3         1       1  female  35.0      1      0  53.1000        S   Mrs   \n",
       "4         0       3    male  35.0      0      0   8.0500        S    Mr   \n",
       "\n",
       "   Sex_male  Title_Miss  Title_Mr  Title_Mrs  Title_Officer  Title_Royalty  \n",
       "0         1           0         1          0              0              0  \n",
       "1         0           0         0          1              0              0  \n",
       "2         0           1         0          0              0              0  \n",
       "3         0           0         0          1              0              0  \n",
       "4         1           0         1          0              0              0  "
      ]
     },
     "execution_count": 24,
     "metadata": {},
     "output_type": "execute_result"
    }
   ],
   "source": [
    "df1.head()"
   ]
  },
  {
   "cell_type": "code",
   "execution_count": 25,
   "id": "16c5a3e2",
   "metadata": {
    "execution": {
     "iopub.execute_input": "2022-08-01T16:52:21.676736Z",
     "iopub.status.busy": "2022-08-01T16:52:21.676351Z",
     "iopub.status.idle": "2022-08-01T16:52:21.682514Z",
     "shell.execute_reply": "2022-08-01T16:52:21.681771Z"
    },
    "papermill": {
     "duration": 0.02614,
     "end_time": "2022-08-01T16:52:21.684581",
     "exception": false,
     "start_time": "2022-08-01T16:52:21.658441",
     "status": "completed"
    },
    "tags": []
   },
   "outputs": [],
   "source": [
    "df1 = df1.drop(['Title',  'Sex'], axis = 1)"
   ]
  },
  {
   "cell_type": "code",
   "execution_count": 26,
   "id": "6feb039d",
   "metadata": {
    "execution": {
     "iopub.execute_input": "2022-08-01T16:52:21.719980Z",
     "iopub.status.busy": "2022-08-01T16:52:21.719242Z",
     "iopub.status.idle": "2022-08-01T16:52:21.733259Z",
     "shell.execute_reply": "2022-08-01T16:52:21.732359Z"
    },
    "papermill": {
     "duration": 0.034048,
     "end_time": "2022-08-01T16:52:21.735219",
     "exception": false,
     "start_time": "2022-08-01T16:52:21.701171",
     "status": "completed"
    },
    "tags": []
   },
   "outputs": [
    {
     "data": {
      "text/html": [
       "<div>\n",
       "<style scoped>\n",
       "    .dataframe tbody tr th:only-of-type {\n",
       "        vertical-align: middle;\n",
       "    }\n",
       "\n",
       "    .dataframe tbody tr th {\n",
       "        vertical-align: top;\n",
       "    }\n",
       "\n",
       "    .dataframe thead th {\n",
       "        text-align: right;\n",
       "    }\n",
       "</style>\n",
       "<table border=\"1\" class=\"dataframe\">\n",
       "  <thead>\n",
       "    <tr style=\"text-align: right;\">\n",
       "      <th></th>\n",
       "      <th>Survived</th>\n",
       "      <th>Pclass</th>\n",
       "      <th>Age</th>\n",
       "      <th>SibSp</th>\n",
       "      <th>Parch</th>\n",
       "      <th>Fare</th>\n",
       "      <th>Embarked</th>\n",
       "      <th>Sex_male</th>\n",
       "      <th>Title_Miss</th>\n",
       "      <th>Title_Mr</th>\n",
       "      <th>Title_Mrs</th>\n",
       "      <th>Title_Officer</th>\n",
       "      <th>Title_Royalty</th>\n",
       "    </tr>\n",
       "  </thead>\n",
       "  <tbody>\n",
       "    <tr>\n",
       "      <th>0</th>\n",
       "      <td>0</td>\n",
       "      <td>3</td>\n",
       "      <td>22.0</td>\n",
       "      <td>1</td>\n",
       "      <td>0</td>\n",
       "      <td>7.2500</td>\n",
       "      <td>S</td>\n",
       "      <td>1</td>\n",
       "      <td>0</td>\n",
       "      <td>1</td>\n",
       "      <td>0</td>\n",
       "      <td>0</td>\n",
       "      <td>0</td>\n",
       "    </tr>\n",
       "    <tr>\n",
       "      <th>1</th>\n",
       "      <td>1</td>\n",
       "      <td>1</td>\n",
       "      <td>38.0</td>\n",
       "      <td>1</td>\n",
       "      <td>0</td>\n",
       "      <td>71.2833</td>\n",
       "      <td>C</td>\n",
       "      <td>0</td>\n",
       "      <td>0</td>\n",
       "      <td>0</td>\n",
       "      <td>1</td>\n",
       "      <td>0</td>\n",
       "      <td>0</td>\n",
       "    </tr>\n",
       "    <tr>\n",
       "      <th>2</th>\n",
       "      <td>1</td>\n",
       "      <td>3</td>\n",
       "      <td>26.0</td>\n",
       "      <td>0</td>\n",
       "      <td>0</td>\n",
       "      <td>7.9250</td>\n",
       "      <td>S</td>\n",
       "      <td>0</td>\n",
       "      <td>1</td>\n",
       "      <td>0</td>\n",
       "      <td>0</td>\n",
       "      <td>0</td>\n",
       "      <td>0</td>\n",
       "    </tr>\n",
       "    <tr>\n",
       "      <th>3</th>\n",
       "      <td>1</td>\n",
       "      <td>1</td>\n",
       "      <td>35.0</td>\n",
       "      <td>1</td>\n",
       "      <td>0</td>\n",
       "      <td>53.1000</td>\n",
       "      <td>S</td>\n",
       "      <td>0</td>\n",
       "      <td>0</td>\n",
       "      <td>0</td>\n",
       "      <td>1</td>\n",
       "      <td>0</td>\n",
       "      <td>0</td>\n",
       "    </tr>\n",
       "    <tr>\n",
       "      <th>4</th>\n",
       "      <td>0</td>\n",
       "      <td>3</td>\n",
       "      <td>35.0</td>\n",
       "      <td>0</td>\n",
       "      <td>0</td>\n",
       "      <td>8.0500</td>\n",
       "      <td>S</td>\n",
       "      <td>1</td>\n",
       "      <td>0</td>\n",
       "      <td>1</td>\n",
       "      <td>0</td>\n",
       "      <td>0</td>\n",
       "      <td>0</td>\n",
       "    </tr>\n",
       "  </tbody>\n",
       "</table>\n",
       "</div>"
      ],
      "text/plain": [
       "   Survived  Pclass   Age  SibSp  Parch     Fare Embarked  Sex_male  \\\n",
       "0         0       3  22.0      1      0   7.2500        S         1   \n",
       "1         1       1  38.0      1      0  71.2833        C         0   \n",
       "2         1       3  26.0      0      0   7.9250        S         0   \n",
       "3         1       1  35.0      1      0  53.1000        S         0   \n",
       "4         0       3  35.0      0      0   8.0500        S         1   \n",
       "\n",
       "   Title_Miss  Title_Mr  Title_Mrs  Title_Officer  Title_Royalty  \n",
       "0           0         1          0              0              0  \n",
       "1           0         0          1              0              0  \n",
       "2           1         0          0              0              0  \n",
       "3           0         0          1              0              0  \n",
       "4           0         1          0              0              0  "
      ]
     },
     "execution_count": 26,
     "metadata": {},
     "output_type": "execute_result"
    }
   ],
   "source": [
    "df1.head()"
   ]
  },
  {
   "cell_type": "code",
   "execution_count": 27,
   "id": "be2901e2",
   "metadata": {
    "execution": {
     "iopub.execute_input": "2022-08-01T16:52:21.771079Z",
     "iopub.status.busy": "2022-08-01T16:52:21.770100Z",
     "iopub.status.idle": "2022-08-01T16:52:21.779629Z",
     "shell.execute_reply": "2022-08-01T16:52:21.778816Z"
    },
    "papermill": {
     "duration": 0.029671,
     "end_time": "2022-08-01T16:52:21.781660",
     "exception": false,
     "start_time": "2022-08-01T16:52:21.751989",
     "status": "completed"
    },
    "tags": []
   },
   "outputs": [],
   "source": [
    "median_age_men=df1[df1['Sex_male']==1]['Age'].median()\n",
    "median_age_women=df1[df1['Sex_male']==0]['Age'].median()"
   ]
  },
  {
   "cell_type": "code",
   "execution_count": 28,
   "id": "63b5775a",
   "metadata": {
    "execution": {
     "iopub.execute_input": "2022-08-01T16:52:21.817330Z",
     "iopub.status.busy": "2022-08-01T16:52:21.816606Z",
     "iopub.status.idle": "2022-08-01T16:52:21.822035Z",
     "shell.execute_reply": "2022-08-01T16:52:21.821318Z"
    },
    "papermill": {
     "duration": 0.025598,
     "end_time": "2022-08-01T16:52:21.824018",
     "exception": false,
     "start_time": "2022-08-01T16:52:21.798420",
     "status": "completed"
    },
    "tags": []
   },
   "outputs": [],
   "source": [
    "def function(age,sex):\n",
    "    if np.isnan(age):\n",
    "        if sex == 1:\n",
    "            return median_age_men\n",
    "        else:\n",
    "            return median_age_women\n",
    "    else:\n",
    "        return age"
   ]
  },
  {
   "cell_type": "code",
   "execution_count": 29,
   "id": "5fee8cbc",
   "metadata": {
    "execution": {
     "iopub.execute_input": "2022-08-01T16:52:21.859378Z",
     "iopub.status.busy": "2022-08-01T16:52:21.858666Z",
     "iopub.status.idle": "2022-08-01T16:52:21.877638Z",
     "shell.execute_reply": "2022-08-01T16:52:21.876846Z"
    },
    "papermill": {
     "duration": 0.039058,
     "end_time": "2022-08-01T16:52:21.879834",
     "exception": false,
     "start_time": "2022-08-01T16:52:21.840776",
     "status": "completed"
    },
    "tags": []
   },
   "outputs": [],
   "source": [
    "df1['Age']= df1.apply(lambda x : function(x['Age'], x['Sex_male']),axis=1)\n"
   ]
  },
  {
   "cell_type": "code",
   "execution_count": 30,
   "id": "f9c10c29",
   "metadata": {
    "execution": {
     "iopub.execute_input": "2022-08-01T16:52:21.915449Z",
     "iopub.status.busy": "2022-08-01T16:52:21.914832Z",
     "iopub.status.idle": "2022-08-01T16:52:21.924064Z",
     "shell.execute_reply": "2022-08-01T16:52:21.923246Z"
    },
    "papermill": {
     "duration": 0.02934,
     "end_time": "2022-08-01T16:52:21.925984",
     "exception": false,
     "start_time": "2022-08-01T16:52:21.896644",
     "status": "completed"
    },
    "tags": []
   },
   "outputs": [
    {
     "data": {
      "text/plain": [
       "Survived         0\n",
       "Pclass           0\n",
       "Age              0\n",
       "SibSp            0\n",
       "Parch            0\n",
       "Fare             0\n",
       "Embarked         2\n",
       "Sex_male         0\n",
       "Title_Miss       0\n",
       "Title_Mr         0\n",
       "Title_Mrs        0\n",
       "Title_Officer    0\n",
       "Title_Royalty    0\n",
       "dtype: int64"
      ]
     },
     "execution_count": 30,
     "metadata": {},
     "output_type": "execute_result"
    }
   ],
   "source": [
    "df1.isnull().sum()"
   ]
  },
  {
   "cell_type": "code",
   "execution_count": 31,
   "id": "e8484a02",
   "metadata": {
    "execution": {
     "iopub.execute_input": "2022-08-01T16:52:21.961898Z",
     "iopub.status.busy": "2022-08-01T16:52:21.961273Z",
     "iopub.status.idle": "2022-08-01T16:52:21.968461Z",
     "shell.execute_reply": "2022-08-01T16:52:21.967560Z"
    },
    "papermill": {
     "duration": 0.027698,
     "end_time": "2022-08-01T16:52:21.970701",
     "exception": false,
     "start_time": "2022-08-01T16:52:21.943003",
     "status": "completed"
    },
    "tags": []
   },
   "outputs": [],
   "source": [
    "df1.dropna(inplace=True)\n"
   ]
  },
  {
   "cell_type": "code",
   "execution_count": 32,
   "id": "723d0655",
   "metadata": {
    "execution": {
     "iopub.execute_input": "2022-08-01T16:52:22.006328Z",
     "iopub.status.busy": "2022-08-01T16:52:22.005962Z",
     "iopub.status.idle": "2022-08-01T16:52:22.014531Z",
     "shell.execute_reply": "2022-08-01T16:52:22.013792Z"
    },
    "papermill": {
     "duration": 0.028631,
     "end_time": "2022-08-01T16:52:22.016320",
     "exception": false,
     "start_time": "2022-08-01T16:52:21.987689",
     "status": "completed"
    },
    "tags": []
   },
   "outputs": [
    {
     "data": {
      "text/plain": [
       "Survived         0\n",
       "Pclass           0\n",
       "Age              0\n",
       "SibSp            0\n",
       "Parch            0\n",
       "Fare             0\n",
       "Embarked         0\n",
       "Sex_male         0\n",
       "Title_Miss       0\n",
       "Title_Mr         0\n",
       "Title_Mrs        0\n",
       "Title_Officer    0\n",
       "Title_Royalty    0\n",
       "dtype: int64"
      ]
     },
     "execution_count": 32,
     "metadata": {},
     "output_type": "execute_result"
    }
   ],
   "source": [
    "df1.isnull().sum()"
   ]
  },
  {
   "cell_type": "code",
   "execution_count": 33,
   "id": "65edd73f",
   "metadata": {
    "execution": {
     "iopub.execute_input": "2022-08-01T16:52:22.052339Z",
     "iopub.status.busy": "2022-08-01T16:52:22.051688Z",
     "iopub.status.idle": "2022-08-01T16:52:22.056807Z",
     "shell.execute_reply": "2022-08-01T16:52:22.056066Z"
    },
    "papermill": {
     "duration": 0.025066,
     "end_time": "2022-08-01T16:52:22.058518",
     "exception": false,
     "start_time": "2022-08-01T16:52:22.033452",
     "status": "completed"
    },
    "tags": []
   },
   "outputs": [],
   "source": [
    "dummy_emb = pd.get_dummies(df1['Embarked'], drop_first= True)"
   ]
  },
  {
   "cell_type": "code",
   "execution_count": 34,
   "id": "15283fe7",
   "metadata": {
    "execution": {
     "iopub.execute_input": "2022-08-01T16:52:22.094978Z",
     "iopub.status.busy": "2022-08-01T16:52:22.094050Z",
     "iopub.status.idle": "2022-08-01T16:52:22.099864Z",
     "shell.execute_reply": "2022-08-01T16:52:22.099043Z"
    },
    "papermill": {
     "duration": 0.026119,
     "end_time": "2022-08-01T16:52:22.101677",
     "exception": false,
     "start_time": "2022-08-01T16:52:22.075558",
     "status": "completed"
    },
    "tags": []
   },
   "outputs": [],
   "source": [
    "df1 = pd.concat([df1, dummy_emb], axis=1)"
   ]
  },
  {
   "cell_type": "code",
   "execution_count": 35,
   "id": "451772ea",
   "metadata": {
    "execution": {
     "iopub.execute_input": "2022-08-01T16:52:22.137693Z",
     "iopub.status.busy": "2022-08-01T16:52:22.137036Z",
     "iopub.status.idle": "2022-08-01T16:52:22.142235Z",
     "shell.execute_reply": "2022-08-01T16:52:22.141533Z"
    },
    "papermill": {
     "duration": 0.025221,
     "end_time": "2022-08-01T16:52:22.144040",
     "exception": false,
     "start_time": "2022-08-01T16:52:22.118819",
     "status": "completed"
    },
    "tags": []
   },
   "outputs": [],
   "source": [
    "df1 = df1.drop(['Embarked'], axis = 1)"
   ]
  },
  {
   "cell_type": "code",
   "execution_count": 36,
   "id": "b9e0d9d0",
   "metadata": {
    "execution": {
     "iopub.execute_input": "2022-08-01T16:52:22.179724Z",
     "iopub.status.busy": "2022-08-01T16:52:22.179337Z",
     "iopub.status.idle": "2022-08-01T16:52:22.191818Z",
     "shell.execute_reply": "2022-08-01T16:52:22.191121Z"
    },
    "papermill": {
     "duration": 0.032445,
     "end_time": "2022-08-01T16:52:22.193565",
     "exception": false,
     "start_time": "2022-08-01T16:52:22.161120",
     "status": "completed"
    },
    "tags": []
   },
   "outputs": [
    {
     "data": {
      "text/html": [
       "<div>\n",
       "<style scoped>\n",
       "    .dataframe tbody tr th:only-of-type {\n",
       "        vertical-align: middle;\n",
       "    }\n",
       "\n",
       "    .dataframe tbody tr th {\n",
       "        vertical-align: top;\n",
       "    }\n",
       "\n",
       "    .dataframe thead th {\n",
       "        text-align: right;\n",
       "    }\n",
       "</style>\n",
       "<table border=\"1\" class=\"dataframe\">\n",
       "  <thead>\n",
       "    <tr style=\"text-align: right;\">\n",
       "      <th></th>\n",
       "      <th>Survived</th>\n",
       "      <th>Pclass</th>\n",
       "      <th>Age</th>\n",
       "      <th>SibSp</th>\n",
       "      <th>Parch</th>\n",
       "      <th>Fare</th>\n",
       "      <th>Sex_male</th>\n",
       "      <th>Title_Miss</th>\n",
       "      <th>Title_Mr</th>\n",
       "      <th>Title_Mrs</th>\n",
       "      <th>Title_Officer</th>\n",
       "      <th>Title_Royalty</th>\n",
       "      <th>Q</th>\n",
       "      <th>S</th>\n",
       "    </tr>\n",
       "  </thead>\n",
       "  <tbody>\n",
       "    <tr>\n",
       "      <th>0</th>\n",
       "      <td>0</td>\n",
       "      <td>3</td>\n",
       "      <td>22.0</td>\n",
       "      <td>1</td>\n",
       "      <td>0</td>\n",
       "      <td>7.2500</td>\n",
       "      <td>1</td>\n",
       "      <td>0</td>\n",
       "      <td>1</td>\n",
       "      <td>0</td>\n",
       "      <td>0</td>\n",
       "      <td>0</td>\n",
       "      <td>0</td>\n",
       "      <td>1</td>\n",
       "    </tr>\n",
       "    <tr>\n",
       "      <th>1</th>\n",
       "      <td>1</td>\n",
       "      <td>1</td>\n",
       "      <td>38.0</td>\n",
       "      <td>1</td>\n",
       "      <td>0</td>\n",
       "      <td>71.2833</td>\n",
       "      <td>0</td>\n",
       "      <td>0</td>\n",
       "      <td>0</td>\n",
       "      <td>1</td>\n",
       "      <td>0</td>\n",
       "      <td>0</td>\n",
       "      <td>0</td>\n",
       "      <td>0</td>\n",
       "    </tr>\n",
       "    <tr>\n",
       "      <th>2</th>\n",
       "      <td>1</td>\n",
       "      <td>3</td>\n",
       "      <td>26.0</td>\n",
       "      <td>0</td>\n",
       "      <td>0</td>\n",
       "      <td>7.9250</td>\n",
       "      <td>0</td>\n",
       "      <td>1</td>\n",
       "      <td>0</td>\n",
       "      <td>0</td>\n",
       "      <td>0</td>\n",
       "      <td>0</td>\n",
       "      <td>0</td>\n",
       "      <td>1</td>\n",
       "    </tr>\n",
       "    <tr>\n",
       "      <th>3</th>\n",
       "      <td>1</td>\n",
       "      <td>1</td>\n",
       "      <td>35.0</td>\n",
       "      <td>1</td>\n",
       "      <td>0</td>\n",
       "      <td>53.1000</td>\n",
       "      <td>0</td>\n",
       "      <td>0</td>\n",
       "      <td>0</td>\n",
       "      <td>1</td>\n",
       "      <td>0</td>\n",
       "      <td>0</td>\n",
       "      <td>0</td>\n",
       "      <td>1</td>\n",
       "    </tr>\n",
       "    <tr>\n",
       "      <th>4</th>\n",
       "      <td>0</td>\n",
       "      <td>3</td>\n",
       "      <td>35.0</td>\n",
       "      <td>0</td>\n",
       "      <td>0</td>\n",
       "      <td>8.0500</td>\n",
       "      <td>1</td>\n",
       "      <td>0</td>\n",
       "      <td>1</td>\n",
       "      <td>0</td>\n",
       "      <td>0</td>\n",
       "      <td>0</td>\n",
       "      <td>0</td>\n",
       "      <td>1</td>\n",
       "    </tr>\n",
       "  </tbody>\n",
       "</table>\n",
       "</div>"
      ],
      "text/plain": [
       "   Survived  Pclass   Age  SibSp  Parch     Fare  Sex_male  Title_Miss  \\\n",
       "0         0       3  22.0      1      0   7.2500         1           0   \n",
       "1         1       1  38.0      1      0  71.2833         0           0   \n",
       "2         1       3  26.0      0      0   7.9250         0           1   \n",
       "3         1       1  35.0      1      0  53.1000         0           0   \n",
       "4         0       3  35.0      0      0   8.0500         1           0   \n",
       "\n",
       "   Title_Mr  Title_Mrs  Title_Officer  Title_Royalty  Q  S  \n",
       "0         1          0              0              0  0  1  \n",
       "1         0          1              0              0  0  0  \n",
       "2         0          0              0              0  0  1  \n",
       "3         0          1              0              0  0  1  \n",
       "4         1          0              0              0  0  1  "
      ]
     },
     "execution_count": 36,
     "metadata": {},
     "output_type": "execute_result"
    }
   ],
   "source": [
    "df1.head()"
   ]
  },
  {
   "cell_type": "code",
   "execution_count": 37,
   "id": "135ca5ed",
   "metadata": {
    "execution": {
     "iopub.execute_input": "2022-08-01T16:52:22.229734Z",
     "iopub.status.busy": "2022-08-01T16:52:22.229358Z",
     "iopub.status.idle": "2022-08-01T16:52:22.236701Z",
     "shell.execute_reply": "2022-08-01T16:52:22.235980Z"
    },
    "papermill": {
     "duration": 0.027546,
     "end_time": "2022-08-01T16:52:22.238446",
     "exception": false,
     "start_time": "2022-08-01T16:52:22.210900",
     "status": "completed"
    },
    "tags": []
   },
   "outputs": [
    {
     "data": {
      "text/plain": [
       "Survived         0\n",
       "Pclass           0\n",
       "Age              0\n",
       "SibSp            0\n",
       "Parch            0\n",
       "Fare             0\n",
       "Sex_male         0\n",
       "Title_Miss       0\n",
       "Title_Mr         0\n",
       "Title_Mrs        0\n",
       "Title_Officer    0\n",
       "Title_Royalty    0\n",
       "Q                0\n",
       "S                0\n",
       "dtype: int64"
      ]
     },
     "execution_count": 37,
     "metadata": {},
     "output_type": "execute_result"
    }
   ],
   "source": [
    "df1.isnull().sum()"
   ]
  },
  {
   "cell_type": "code",
   "execution_count": 38,
   "id": "b0dd845a",
   "metadata": {
    "execution": {
     "iopub.execute_input": "2022-08-01T16:52:22.274926Z",
     "iopub.status.busy": "2022-08-01T16:52:22.274283Z",
     "iopub.status.idle": "2022-08-01T16:52:22.318312Z",
     "shell.execute_reply": "2022-08-01T16:52:22.317250Z"
    },
    "papermill": {
     "duration": 0.064766,
     "end_time": "2022-08-01T16:52:22.320474",
     "exception": false,
     "start_time": "2022-08-01T16:52:22.255708",
     "status": "completed"
    },
    "tags": []
   },
   "outputs": [
    {
     "data": {
      "text/html": [
       "<div>\n",
       "<style scoped>\n",
       "    .dataframe tbody tr th:only-of-type {\n",
       "        vertical-align: middle;\n",
       "    }\n",
       "\n",
       "    .dataframe tbody tr th {\n",
       "        vertical-align: top;\n",
       "    }\n",
       "\n",
       "    .dataframe thead th {\n",
       "        text-align: right;\n",
       "    }\n",
       "</style>\n",
       "<table border=\"1\" class=\"dataframe\">\n",
       "  <thead>\n",
       "    <tr style=\"text-align: right;\">\n",
       "      <th></th>\n",
       "      <th>Survived</th>\n",
       "      <th>Pclass</th>\n",
       "      <th>Age</th>\n",
       "      <th>SibSp</th>\n",
       "      <th>Parch</th>\n",
       "      <th>Fare</th>\n",
       "      <th>Sex_male</th>\n",
       "      <th>Title_Miss</th>\n",
       "      <th>Title_Mr</th>\n",
       "      <th>Title_Mrs</th>\n",
       "      <th>Title_Officer</th>\n",
       "      <th>Title_Royalty</th>\n",
       "      <th>Q</th>\n",
       "      <th>S</th>\n",
       "    </tr>\n",
       "  </thead>\n",
       "  <tbody>\n",
       "    <tr>\n",
       "      <th>count</th>\n",
       "      <td>889.000000</td>\n",
       "      <td>889.000000</td>\n",
       "      <td>889.000000</td>\n",
       "      <td>889.000000</td>\n",
       "      <td>889.000000</td>\n",
       "      <td>889.000000</td>\n",
       "      <td>889.000000</td>\n",
       "      <td>889.000000</td>\n",
       "      <td>889.000000</td>\n",
       "      <td>889.000000</td>\n",
       "      <td>889.000000</td>\n",
       "      <td>889.000000</td>\n",
       "      <td>889.000000</td>\n",
       "      <td>889.000000</td>\n",
       "    </tr>\n",
       "    <tr>\n",
       "      <th>mean</th>\n",
       "      <td>0.382452</td>\n",
       "      <td>2.311586</td>\n",
       "      <td>29.395017</td>\n",
       "      <td>0.524184</td>\n",
       "      <td>0.382452</td>\n",
       "      <td>32.096681</td>\n",
       "      <td>0.649044</td>\n",
       "      <td>0.205849</td>\n",
       "      <td>0.581552</td>\n",
       "      <td>0.141732</td>\n",
       "      <td>0.020247</td>\n",
       "      <td>0.005624</td>\n",
       "      <td>0.086614</td>\n",
       "      <td>0.724409</td>\n",
       "    </tr>\n",
       "    <tr>\n",
       "      <th>std</th>\n",
       "      <td>0.486260</td>\n",
       "      <td>0.834700</td>\n",
       "      <td>12.984264</td>\n",
       "      <td>1.103705</td>\n",
       "      <td>0.806761</td>\n",
       "      <td>49.697504</td>\n",
       "      <td>0.477538</td>\n",
       "      <td>0.404548</td>\n",
       "      <td>0.493582</td>\n",
       "      <td>0.348972</td>\n",
       "      <td>0.140925</td>\n",
       "      <td>0.074826</td>\n",
       "      <td>0.281427</td>\n",
       "      <td>0.447063</td>\n",
       "    </tr>\n",
       "    <tr>\n",
       "      <th>min</th>\n",
       "      <td>0.000000</td>\n",
       "      <td>1.000000</td>\n",
       "      <td>0.420000</td>\n",
       "      <td>0.000000</td>\n",
       "      <td>0.000000</td>\n",
       "      <td>0.000000</td>\n",
       "      <td>0.000000</td>\n",
       "      <td>0.000000</td>\n",
       "      <td>0.000000</td>\n",
       "      <td>0.000000</td>\n",
       "      <td>0.000000</td>\n",
       "      <td>0.000000</td>\n",
       "      <td>0.000000</td>\n",
       "      <td>0.000000</td>\n",
       "    </tr>\n",
       "    <tr>\n",
       "      <th>25%</th>\n",
       "      <td>0.000000</td>\n",
       "      <td>2.000000</td>\n",
       "      <td>22.000000</td>\n",
       "      <td>0.000000</td>\n",
       "      <td>0.000000</td>\n",
       "      <td>7.895800</td>\n",
       "      <td>0.000000</td>\n",
       "      <td>0.000000</td>\n",
       "      <td>0.000000</td>\n",
       "      <td>0.000000</td>\n",
       "      <td>0.000000</td>\n",
       "      <td>0.000000</td>\n",
       "      <td>0.000000</td>\n",
       "      <td>0.000000</td>\n",
       "    </tr>\n",
       "    <tr>\n",
       "      <th>50%</th>\n",
       "      <td>0.000000</td>\n",
       "      <td>3.000000</td>\n",
       "      <td>29.000000</td>\n",
       "      <td>0.000000</td>\n",
       "      <td>0.000000</td>\n",
       "      <td>14.454200</td>\n",
       "      <td>1.000000</td>\n",
       "      <td>0.000000</td>\n",
       "      <td>1.000000</td>\n",
       "      <td>0.000000</td>\n",
       "      <td>0.000000</td>\n",
       "      <td>0.000000</td>\n",
       "      <td>0.000000</td>\n",
       "      <td>1.000000</td>\n",
       "    </tr>\n",
       "    <tr>\n",
       "      <th>75%</th>\n",
       "      <td>1.000000</td>\n",
       "      <td>3.000000</td>\n",
       "      <td>35.000000</td>\n",
       "      <td>1.000000</td>\n",
       "      <td>0.000000</td>\n",
       "      <td>31.000000</td>\n",
       "      <td>1.000000</td>\n",
       "      <td>0.000000</td>\n",
       "      <td>1.000000</td>\n",
       "      <td>0.000000</td>\n",
       "      <td>0.000000</td>\n",
       "      <td>0.000000</td>\n",
       "      <td>0.000000</td>\n",
       "      <td>1.000000</td>\n",
       "    </tr>\n",
       "    <tr>\n",
       "      <th>max</th>\n",
       "      <td>1.000000</td>\n",
       "      <td>3.000000</td>\n",
       "      <td>80.000000</td>\n",
       "      <td>8.000000</td>\n",
       "      <td>6.000000</td>\n",
       "      <td>512.329200</td>\n",
       "      <td>1.000000</td>\n",
       "      <td>1.000000</td>\n",
       "      <td>1.000000</td>\n",
       "      <td>1.000000</td>\n",
       "      <td>1.000000</td>\n",
       "      <td>1.000000</td>\n",
       "      <td>1.000000</td>\n",
       "      <td>1.000000</td>\n",
       "    </tr>\n",
       "  </tbody>\n",
       "</table>\n",
       "</div>"
      ],
      "text/plain": [
       "         Survived      Pclass         Age       SibSp       Parch        Fare  \\\n",
       "count  889.000000  889.000000  889.000000  889.000000  889.000000  889.000000   \n",
       "mean     0.382452    2.311586   29.395017    0.524184    0.382452   32.096681   \n",
       "std      0.486260    0.834700   12.984264    1.103705    0.806761   49.697504   \n",
       "min      0.000000    1.000000    0.420000    0.000000    0.000000    0.000000   \n",
       "25%      0.000000    2.000000   22.000000    0.000000    0.000000    7.895800   \n",
       "50%      0.000000    3.000000   29.000000    0.000000    0.000000   14.454200   \n",
       "75%      1.000000    3.000000   35.000000    1.000000    0.000000   31.000000   \n",
       "max      1.000000    3.000000   80.000000    8.000000    6.000000  512.329200   \n",
       "\n",
       "         Sex_male  Title_Miss    Title_Mr   Title_Mrs  Title_Officer  \\\n",
       "count  889.000000  889.000000  889.000000  889.000000     889.000000   \n",
       "mean     0.649044    0.205849    0.581552    0.141732       0.020247   \n",
       "std      0.477538    0.404548    0.493582    0.348972       0.140925   \n",
       "min      0.000000    0.000000    0.000000    0.000000       0.000000   \n",
       "25%      0.000000    0.000000    0.000000    0.000000       0.000000   \n",
       "50%      1.000000    0.000000    1.000000    0.000000       0.000000   \n",
       "75%      1.000000    0.000000    1.000000    0.000000       0.000000   \n",
       "max      1.000000    1.000000    1.000000    1.000000       1.000000   \n",
       "\n",
       "       Title_Royalty           Q           S  \n",
       "count     889.000000  889.000000  889.000000  \n",
       "mean        0.005624    0.086614    0.724409  \n",
       "std         0.074826    0.281427    0.447063  \n",
       "min         0.000000    0.000000    0.000000  \n",
       "25%         0.000000    0.000000    0.000000  \n",
       "50%         0.000000    0.000000    1.000000  \n",
       "75%         0.000000    0.000000    1.000000  \n",
       "max         1.000000    1.000000    1.000000  "
      ]
     },
     "execution_count": 38,
     "metadata": {},
     "output_type": "execute_result"
    }
   ],
   "source": [
    "df1.describe()"
   ]
  },
  {
   "cell_type": "code",
   "execution_count": 39,
   "id": "1ab02584",
   "metadata": {
    "execution": {
     "iopub.execute_input": "2022-08-01T16:52:22.357327Z",
     "iopub.status.busy": "2022-08-01T16:52:22.356945Z",
     "iopub.status.idle": "2022-08-01T16:52:22.362509Z",
     "shell.execute_reply": "2022-08-01T16:52:22.361774Z"
    },
    "papermill": {
     "duration": 0.026138,
     "end_time": "2022-08-01T16:52:22.364216",
     "exception": false,
     "start_time": "2022-08-01T16:52:22.338078",
     "status": "completed"
    },
    "tags": []
   },
   "outputs": [],
   "source": [
    "df1.Age = (df1.Age-min(df1.Age))/(max(df1.Age)-min(df1.Age))"
   ]
  },
  {
   "cell_type": "code",
   "execution_count": 40,
   "id": "59267efa",
   "metadata": {
    "execution": {
     "iopub.execute_input": "2022-08-01T16:52:22.401265Z",
     "iopub.status.busy": "2022-08-01T16:52:22.400620Z",
     "iopub.status.idle": "2022-08-01T16:52:22.406032Z",
     "shell.execute_reply": "2022-08-01T16:52:22.405310Z"
    },
    "papermill": {
     "duration": 0.025942,
     "end_time": "2022-08-01T16:52:22.407786",
     "exception": false,
     "start_time": "2022-08-01T16:52:22.381844",
     "status": "completed"
    },
    "tags": []
   },
   "outputs": [],
   "source": [
    "df1.Fare = (df1.Fare-min(df1.Fare))/(max(df1.Fare)-min(df1.Fare))\n"
   ]
  },
  {
   "cell_type": "code",
   "execution_count": 41,
   "id": "7fd4482a",
   "metadata": {
    "execution": {
     "iopub.execute_input": "2022-08-01T16:52:22.444600Z",
     "iopub.status.busy": "2022-08-01T16:52:22.443941Z",
     "iopub.status.idle": "2022-08-01T16:52:22.487308Z",
     "shell.execute_reply": "2022-08-01T16:52:22.486555Z"
    },
    "papermill": {
     "duration": 0.064047,
     "end_time": "2022-08-01T16:52:22.489232",
     "exception": false,
     "start_time": "2022-08-01T16:52:22.425185",
     "status": "completed"
    },
    "tags": []
   },
   "outputs": [
    {
     "data": {
      "text/html": [
       "<div>\n",
       "<style scoped>\n",
       "    .dataframe tbody tr th:only-of-type {\n",
       "        vertical-align: middle;\n",
       "    }\n",
       "\n",
       "    .dataframe tbody tr th {\n",
       "        vertical-align: top;\n",
       "    }\n",
       "\n",
       "    .dataframe thead th {\n",
       "        text-align: right;\n",
       "    }\n",
       "</style>\n",
       "<table border=\"1\" class=\"dataframe\">\n",
       "  <thead>\n",
       "    <tr style=\"text-align: right;\">\n",
       "      <th></th>\n",
       "      <th>Survived</th>\n",
       "      <th>Pclass</th>\n",
       "      <th>Age</th>\n",
       "      <th>SibSp</th>\n",
       "      <th>Parch</th>\n",
       "      <th>Fare</th>\n",
       "      <th>Sex_male</th>\n",
       "      <th>Title_Miss</th>\n",
       "      <th>Title_Mr</th>\n",
       "      <th>Title_Mrs</th>\n",
       "      <th>Title_Officer</th>\n",
       "      <th>Title_Royalty</th>\n",
       "      <th>Q</th>\n",
       "      <th>S</th>\n",
       "    </tr>\n",
       "  </thead>\n",
       "  <tbody>\n",
       "    <tr>\n",
       "      <th>count</th>\n",
       "      <td>889.000000</td>\n",
       "      <td>889.000000</td>\n",
       "      <td>889.000000</td>\n",
       "      <td>889.000000</td>\n",
       "      <td>889.000000</td>\n",
       "      <td>889.000000</td>\n",
       "      <td>889.000000</td>\n",
       "      <td>889.000000</td>\n",
       "      <td>889.000000</td>\n",
       "      <td>889.000000</td>\n",
       "      <td>889.000000</td>\n",
       "      <td>889.000000</td>\n",
       "      <td>889.000000</td>\n",
       "      <td>889.000000</td>\n",
       "    </tr>\n",
       "    <tr>\n",
       "      <th>mean</th>\n",
       "      <td>0.382452</td>\n",
       "      <td>2.311586</td>\n",
       "      <td>0.364099</td>\n",
       "      <td>0.524184</td>\n",
       "      <td>0.382452</td>\n",
       "      <td>0.062649</td>\n",
       "      <td>0.649044</td>\n",
       "      <td>0.205849</td>\n",
       "      <td>0.581552</td>\n",
       "      <td>0.141732</td>\n",
       "      <td>0.020247</td>\n",
       "      <td>0.005624</td>\n",
       "      <td>0.086614</td>\n",
       "      <td>0.724409</td>\n",
       "    </tr>\n",
       "    <tr>\n",
       "      <th>std</th>\n",
       "      <td>0.486260</td>\n",
       "      <td>0.834700</td>\n",
       "      <td>0.163160</td>\n",
       "      <td>1.103705</td>\n",
       "      <td>0.806761</td>\n",
       "      <td>0.097003</td>\n",
       "      <td>0.477538</td>\n",
       "      <td>0.404548</td>\n",
       "      <td>0.493582</td>\n",
       "      <td>0.348972</td>\n",
       "      <td>0.140925</td>\n",
       "      <td>0.074826</td>\n",
       "      <td>0.281427</td>\n",
       "      <td>0.447063</td>\n",
       "    </tr>\n",
       "    <tr>\n",
       "      <th>min</th>\n",
       "      <td>0.000000</td>\n",
       "      <td>1.000000</td>\n",
       "      <td>0.000000</td>\n",
       "      <td>0.000000</td>\n",
       "      <td>0.000000</td>\n",
       "      <td>0.000000</td>\n",
       "      <td>0.000000</td>\n",
       "      <td>0.000000</td>\n",
       "      <td>0.000000</td>\n",
       "      <td>0.000000</td>\n",
       "      <td>0.000000</td>\n",
       "      <td>0.000000</td>\n",
       "      <td>0.000000</td>\n",
       "      <td>0.000000</td>\n",
       "    </tr>\n",
       "    <tr>\n",
       "      <th>25%</th>\n",
       "      <td>0.000000</td>\n",
       "      <td>2.000000</td>\n",
       "      <td>0.271174</td>\n",
       "      <td>0.000000</td>\n",
       "      <td>0.000000</td>\n",
       "      <td>0.015412</td>\n",
       "      <td>0.000000</td>\n",
       "      <td>0.000000</td>\n",
       "      <td>0.000000</td>\n",
       "      <td>0.000000</td>\n",
       "      <td>0.000000</td>\n",
       "      <td>0.000000</td>\n",
       "      <td>0.000000</td>\n",
       "      <td>0.000000</td>\n",
       "    </tr>\n",
       "    <tr>\n",
       "      <th>50%</th>\n",
       "      <td>0.000000</td>\n",
       "      <td>3.000000</td>\n",
       "      <td>0.359135</td>\n",
       "      <td>0.000000</td>\n",
       "      <td>0.000000</td>\n",
       "      <td>0.028213</td>\n",
       "      <td>1.000000</td>\n",
       "      <td>0.000000</td>\n",
       "      <td>1.000000</td>\n",
       "      <td>0.000000</td>\n",
       "      <td>0.000000</td>\n",
       "      <td>0.000000</td>\n",
       "      <td>0.000000</td>\n",
       "      <td>1.000000</td>\n",
       "    </tr>\n",
       "    <tr>\n",
       "      <th>75%</th>\n",
       "      <td>1.000000</td>\n",
       "      <td>3.000000</td>\n",
       "      <td>0.434531</td>\n",
       "      <td>1.000000</td>\n",
       "      <td>0.000000</td>\n",
       "      <td>0.060508</td>\n",
       "      <td>1.000000</td>\n",
       "      <td>0.000000</td>\n",
       "      <td>1.000000</td>\n",
       "      <td>0.000000</td>\n",
       "      <td>0.000000</td>\n",
       "      <td>0.000000</td>\n",
       "      <td>0.000000</td>\n",
       "      <td>1.000000</td>\n",
       "    </tr>\n",
       "    <tr>\n",
       "      <th>max</th>\n",
       "      <td>1.000000</td>\n",
       "      <td>3.000000</td>\n",
       "      <td>1.000000</td>\n",
       "      <td>8.000000</td>\n",
       "      <td>6.000000</td>\n",
       "      <td>1.000000</td>\n",
       "      <td>1.000000</td>\n",
       "      <td>1.000000</td>\n",
       "      <td>1.000000</td>\n",
       "      <td>1.000000</td>\n",
       "      <td>1.000000</td>\n",
       "      <td>1.000000</td>\n",
       "      <td>1.000000</td>\n",
       "      <td>1.000000</td>\n",
       "    </tr>\n",
       "  </tbody>\n",
       "</table>\n",
       "</div>"
      ],
      "text/plain": [
       "         Survived      Pclass         Age       SibSp       Parch        Fare  \\\n",
       "count  889.000000  889.000000  889.000000  889.000000  889.000000  889.000000   \n",
       "mean     0.382452    2.311586    0.364099    0.524184    0.382452    0.062649   \n",
       "std      0.486260    0.834700    0.163160    1.103705    0.806761    0.097003   \n",
       "min      0.000000    1.000000    0.000000    0.000000    0.000000    0.000000   \n",
       "25%      0.000000    2.000000    0.271174    0.000000    0.000000    0.015412   \n",
       "50%      0.000000    3.000000    0.359135    0.000000    0.000000    0.028213   \n",
       "75%      1.000000    3.000000    0.434531    1.000000    0.000000    0.060508   \n",
       "max      1.000000    3.000000    1.000000    8.000000    6.000000    1.000000   \n",
       "\n",
       "         Sex_male  Title_Miss    Title_Mr   Title_Mrs  Title_Officer  \\\n",
       "count  889.000000  889.000000  889.000000  889.000000     889.000000   \n",
       "mean     0.649044    0.205849    0.581552    0.141732       0.020247   \n",
       "std      0.477538    0.404548    0.493582    0.348972       0.140925   \n",
       "min      0.000000    0.000000    0.000000    0.000000       0.000000   \n",
       "25%      0.000000    0.000000    0.000000    0.000000       0.000000   \n",
       "50%      1.000000    0.000000    1.000000    0.000000       0.000000   \n",
       "75%      1.000000    0.000000    1.000000    0.000000       0.000000   \n",
       "max      1.000000    1.000000    1.000000    1.000000       1.000000   \n",
       "\n",
       "       Title_Royalty           Q           S  \n",
       "count     889.000000  889.000000  889.000000  \n",
       "mean        0.005624    0.086614    0.724409  \n",
       "std         0.074826    0.281427    0.447063  \n",
       "min         0.000000    0.000000    0.000000  \n",
       "25%         0.000000    0.000000    0.000000  \n",
       "50%         0.000000    0.000000    1.000000  \n",
       "75%         0.000000    0.000000    1.000000  \n",
       "max         1.000000    1.000000    1.000000  "
      ]
     },
     "execution_count": 41,
     "metadata": {},
     "output_type": "execute_result"
    }
   ],
   "source": [
    "df1.describe()"
   ]
  },
  {
   "cell_type": "code",
   "execution_count": 42,
   "id": "863a6f3b",
   "metadata": {
    "execution": {
     "iopub.execute_input": "2022-08-01T16:52:22.527869Z",
     "iopub.status.busy": "2022-08-01T16:52:22.527167Z",
     "iopub.status.idle": "2022-08-01T16:52:22.702402Z",
     "shell.execute_reply": "2022-08-01T16:52:22.701336Z"
    },
    "papermill": {
     "duration": 0.197633,
     "end_time": "2022-08-01T16:52:22.704948",
     "exception": false,
     "start_time": "2022-08-01T16:52:22.507315",
     "status": "completed"
    },
    "tags": []
   },
   "outputs": [],
   "source": [
    "from sklearn.model_selection import train_test_split\n"
   ]
  },
  {
   "cell_type": "code",
   "execution_count": 43,
   "id": "3a0e6fa4",
   "metadata": {
    "execution": {
     "iopub.execute_input": "2022-08-01T16:52:22.743081Z",
     "iopub.status.busy": "2022-08-01T16:52:22.742439Z",
     "iopub.status.idle": "2022-08-01T16:52:22.747865Z",
     "shell.execute_reply": "2022-08-01T16:52:22.747147Z"
    },
    "papermill": {
     "duration": 0.026371,
     "end_time": "2022-08-01T16:52:22.749592",
     "exception": false,
     "start_time": "2022-08-01T16:52:22.723221",
     "status": "completed"
    },
    "tags": []
   },
   "outputs": [],
   "source": [
    "X = df1.drop('Survived', axis=1)\n",
    "y = df1['Survived']"
   ]
  },
  {
   "cell_type": "code",
   "execution_count": 44,
   "id": "2030ff8f",
   "metadata": {
    "execution": {
     "iopub.execute_input": "2022-08-01T16:52:22.787510Z",
     "iopub.status.busy": "2022-08-01T16:52:22.786848Z",
     "iopub.status.idle": "2022-08-01T16:52:22.795195Z",
     "shell.execute_reply": "2022-08-01T16:52:22.794170Z"
    },
    "papermill": {
     "duration": 0.029681,
     "end_time": "2022-08-01T16:52:22.797298",
     "exception": false,
     "start_time": "2022-08-01T16:52:22.767617",
     "status": "completed"
    },
    "tags": []
   },
   "outputs": [],
   "source": [
    "X_train, X_test, y_train, y_test = train_test_split(X, y, test_size=0.2,stratify=df1['Survived'],random_state=101)"
   ]
  },
  {
   "cell_type": "code",
   "execution_count": 45,
   "id": "1b03b515",
   "metadata": {
    "execution": {
     "iopub.execute_input": "2022-08-01T16:52:22.835153Z",
     "iopub.status.busy": "2022-08-01T16:52:22.834778Z",
     "iopub.status.idle": "2022-08-01T16:52:22.902858Z",
     "shell.execute_reply": "2022-08-01T16:52:22.901731Z"
    },
    "papermill": {
     "duration": 0.089892,
     "end_time": "2022-08-01T16:52:22.905323",
     "exception": false,
     "start_time": "2022-08-01T16:52:22.815431",
     "status": "completed"
    },
    "tags": []
   },
   "outputs": [],
   "source": [
    "from sklearn.linear_model import LogisticRegression"
   ]
  },
  {
   "cell_type": "code",
   "execution_count": 46,
   "id": "ca7c5c81",
   "metadata": {
    "execution": {
     "iopub.execute_input": "2022-08-01T16:52:22.943116Z",
     "iopub.status.busy": "2022-08-01T16:52:22.942739Z",
     "iopub.status.idle": "2022-08-01T16:52:22.947993Z",
     "shell.execute_reply": "2022-08-01T16:52:22.946981Z"
    },
    "papermill": {
     "duration": 0.026401,
     "end_time": "2022-08-01T16:52:22.950015",
     "exception": false,
     "start_time": "2022-08-01T16:52:22.923614",
     "status": "completed"
    },
    "tags": []
   },
   "outputs": [],
   "source": [
    "model = LogisticRegression()"
   ]
  },
  {
   "cell_type": "code",
   "execution_count": 47,
   "id": "6ee6d286",
   "metadata": {
    "execution": {
     "iopub.execute_input": "2022-08-01T16:52:22.987868Z",
     "iopub.status.busy": "2022-08-01T16:52:22.987461Z",
     "iopub.status.idle": "2022-08-01T16:52:23.018504Z",
     "shell.execute_reply": "2022-08-01T16:52:23.017327Z"
    },
    "papermill": {
     "duration": 0.053946,
     "end_time": "2022-08-01T16:52:23.022149",
     "exception": false,
     "start_time": "2022-08-01T16:52:22.968203",
     "status": "completed"
    },
    "tags": []
   },
   "outputs": [
    {
     "data": {
      "text/plain": [
       "LogisticRegression()"
      ]
     },
     "execution_count": 47,
     "metadata": {},
     "output_type": "execute_result"
    }
   ],
   "source": [
    "model.fit(X_train, y_train)"
   ]
  },
  {
   "cell_type": "code",
   "execution_count": 48,
   "id": "9d077379",
   "metadata": {
    "execution": {
     "iopub.execute_input": "2022-08-01T16:52:23.100435Z",
     "iopub.status.busy": "2022-08-01T16:52:23.099745Z",
     "iopub.status.idle": "2022-08-01T16:52:23.106079Z",
     "shell.execute_reply": "2022-08-01T16:52:23.104790Z"
    },
    "papermill": {
     "duration": 0.050045,
     "end_time": "2022-08-01T16:52:23.110707",
     "exception": false,
     "start_time": "2022-08-01T16:52:23.060662",
     "status": "completed"
    },
    "tags": []
   },
   "outputs": [],
   "source": [
    "from sklearn.metrics import accuracy_score, classification_report, confusion_matrix\n"
   ]
  },
  {
   "cell_type": "code",
   "execution_count": 49,
   "id": "457133d5",
   "metadata": {
    "execution": {
     "iopub.execute_input": "2022-08-01T16:52:23.160440Z",
     "iopub.status.busy": "2022-08-01T16:52:23.160047Z",
     "iopub.status.idle": "2022-08-01T16:52:23.166759Z",
     "shell.execute_reply": "2022-08-01T16:52:23.165969Z"
    },
    "papermill": {
     "duration": 0.028418,
     "end_time": "2022-08-01T16:52:23.168768",
     "exception": false,
     "start_time": "2022-08-01T16:52:23.140350",
     "status": "completed"
    },
    "tags": []
   },
   "outputs": [],
   "source": [
    "predictions = model.predict(X_test)"
   ]
  },
  {
   "cell_type": "code",
   "execution_count": 50,
   "id": "725659c0",
   "metadata": {
    "execution": {
     "iopub.execute_input": "2022-08-01T16:52:23.207102Z",
     "iopub.status.busy": "2022-08-01T16:52:23.206381Z",
     "iopub.status.idle": "2022-08-01T16:52:23.213382Z",
     "shell.execute_reply": "2022-08-01T16:52:23.212574Z"
    },
    "papermill": {
     "duration": 0.028446,
     "end_time": "2022-08-01T16:52:23.215376",
     "exception": false,
     "start_time": "2022-08-01T16:52:23.186930",
     "status": "completed"
    },
    "tags": []
   },
   "outputs": [
    {
     "data": {
      "text/plain": [
       "0.8370786516853933"
      ]
     },
     "execution_count": 50,
     "metadata": {},
     "output_type": "execute_result"
    }
   ],
   "source": [
    "accuracy_score(y_test, predictions)"
   ]
  },
  {
   "cell_type": "code",
   "execution_count": 51,
   "id": "7f89d4f5",
   "metadata": {
    "execution": {
     "iopub.execute_input": "2022-08-01T16:52:23.254375Z",
     "iopub.status.busy": "2022-08-01T16:52:23.253669Z",
     "iopub.status.idle": "2022-08-01T16:52:23.263581Z",
     "shell.execute_reply": "2022-08-01T16:52:23.262444Z"
    },
    "papermill": {
     "duration": 0.031365,
     "end_time": "2022-08-01T16:52:23.265731",
     "exception": false,
     "start_time": "2022-08-01T16:52:23.234366",
     "status": "completed"
    },
    "tags": []
   },
   "outputs": [
    {
     "name": "stdout",
     "output_type": "stream",
     "text": [
      "              precision    recall  f1-score   support\n",
      "\n",
      "           0       0.83      0.92      0.87       110\n",
      "           1       0.84      0.71      0.77        68\n",
      "\n",
      "    accuracy                           0.84       178\n",
      "   macro avg       0.84      0.81      0.82       178\n",
      "weighted avg       0.84      0.84      0.83       178\n",
      "\n"
     ]
    }
   ],
   "source": [
    "print(classification_report(y_test, predictions))"
   ]
  },
  {
   "cell_type": "code",
   "execution_count": 52,
   "id": "d9ce9dfa",
   "metadata": {
    "execution": {
     "iopub.execute_input": "2022-08-01T16:52:23.303525Z",
     "iopub.status.busy": "2022-08-01T16:52:23.302781Z",
     "iopub.status.idle": "2022-08-01T16:52:23.312063Z",
     "shell.execute_reply": "2022-08-01T16:52:23.310417Z"
    },
    "papermill": {
     "duration": 0.030707,
     "end_time": "2022-08-01T16:52:23.314291",
     "exception": false,
     "start_time": "2022-08-01T16:52:23.283584",
     "status": "completed"
    },
    "tags": []
   },
   "outputs": [
    {
     "name": "stdout",
     "output_type": "stream",
     "text": [
      "[[101   9]\n",
      " [ 20  48]]\n"
     ]
    }
   ],
   "source": [
    "print(confusion_matrix(y_test, predictions))"
   ]
  },
  {
   "cell_type": "markdown",
   "id": "e3fff451",
   "metadata": {
    "papermill": {
     "duration": 0.017516,
     "end_time": "2022-08-01T16:52:23.349928",
     "exception": false,
     "start_time": "2022-08-01T16:52:23.332412",
     "status": "completed"
    },
    "tags": []
   },
   "source": [
    "# Test "
   ]
  },
  {
   "cell_type": "code",
   "execution_count": 53,
   "id": "369a5ea6",
   "metadata": {
    "execution": {
     "iopub.execute_input": "2022-08-01T16:52:23.388020Z",
     "iopub.status.busy": "2022-08-01T16:52:23.386892Z",
     "iopub.status.idle": "2022-08-01T16:52:23.403621Z",
     "shell.execute_reply": "2022-08-01T16:52:23.402680Z"
    },
    "papermill": {
     "duration": 0.037788,
     "end_time": "2022-08-01T16:52:23.405576",
     "exception": false,
     "start_time": "2022-08-01T16:52:23.367788",
     "status": "completed"
    },
    "tags": []
   },
   "outputs": [
    {
     "data": {
      "text/html": [
       "<div>\n",
       "<style scoped>\n",
       "    .dataframe tbody tr th:only-of-type {\n",
       "        vertical-align: middle;\n",
       "    }\n",
       "\n",
       "    .dataframe tbody tr th {\n",
       "        vertical-align: top;\n",
       "    }\n",
       "\n",
       "    .dataframe thead th {\n",
       "        text-align: right;\n",
       "    }\n",
       "</style>\n",
       "<table border=\"1\" class=\"dataframe\">\n",
       "  <thead>\n",
       "    <tr style=\"text-align: right;\">\n",
       "      <th></th>\n",
       "      <th>PassengerId</th>\n",
       "      <th>Pclass</th>\n",
       "      <th>Name</th>\n",
       "      <th>Sex</th>\n",
       "      <th>Age</th>\n",
       "      <th>SibSp</th>\n",
       "      <th>Parch</th>\n",
       "      <th>Ticket</th>\n",
       "      <th>Fare</th>\n",
       "      <th>Cabin</th>\n",
       "      <th>Embarked</th>\n",
       "    </tr>\n",
       "  </thead>\n",
       "  <tbody>\n",
       "    <tr>\n",
       "      <th>0</th>\n",
       "      <td>892</td>\n",
       "      <td>3</td>\n",
       "      <td>Kelly, Mr. James</td>\n",
       "      <td>male</td>\n",
       "      <td>34.5</td>\n",
       "      <td>0</td>\n",
       "      <td>0</td>\n",
       "      <td>330911</td>\n",
       "      <td>7.8292</td>\n",
       "      <td>NaN</td>\n",
       "      <td>Q</td>\n",
       "    </tr>\n",
       "    <tr>\n",
       "      <th>1</th>\n",
       "      <td>893</td>\n",
       "      <td>3</td>\n",
       "      <td>Wilkes, Mrs. James (Ellen Needs)</td>\n",
       "      <td>female</td>\n",
       "      <td>47.0</td>\n",
       "      <td>1</td>\n",
       "      <td>0</td>\n",
       "      <td>363272</td>\n",
       "      <td>7.0000</td>\n",
       "      <td>NaN</td>\n",
       "      <td>S</td>\n",
       "    </tr>\n",
       "    <tr>\n",
       "      <th>2</th>\n",
       "      <td>894</td>\n",
       "      <td>2</td>\n",
       "      <td>Myles, Mr. Thomas Francis</td>\n",
       "      <td>male</td>\n",
       "      <td>62.0</td>\n",
       "      <td>0</td>\n",
       "      <td>0</td>\n",
       "      <td>240276</td>\n",
       "      <td>9.6875</td>\n",
       "      <td>NaN</td>\n",
       "      <td>Q</td>\n",
       "    </tr>\n",
       "    <tr>\n",
       "      <th>3</th>\n",
       "      <td>895</td>\n",
       "      <td>3</td>\n",
       "      <td>Wirz, Mr. Albert</td>\n",
       "      <td>male</td>\n",
       "      <td>27.0</td>\n",
       "      <td>0</td>\n",
       "      <td>0</td>\n",
       "      <td>315154</td>\n",
       "      <td>8.6625</td>\n",
       "      <td>NaN</td>\n",
       "      <td>S</td>\n",
       "    </tr>\n",
       "    <tr>\n",
       "      <th>4</th>\n",
       "      <td>896</td>\n",
       "      <td>3</td>\n",
       "      <td>Hirvonen, Mrs. Alexander (Helga E Lindqvist)</td>\n",
       "      <td>female</td>\n",
       "      <td>22.0</td>\n",
       "      <td>1</td>\n",
       "      <td>1</td>\n",
       "      <td>3101298</td>\n",
       "      <td>12.2875</td>\n",
       "      <td>NaN</td>\n",
       "      <td>S</td>\n",
       "    </tr>\n",
       "  </tbody>\n",
       "</table>\n",
       "</div>"
      ],
      "text/plain": [
       "   PassengerId  Pclass                                          Name     Sex  \\\n",
       "0          892       3                              Kelly, Mr. James    male   \n",
       "1          893       3              Wilkes, Mrs. James (Ellen Needs)  female   \n",
       "2          894       2                     Myles, Mr. Thomas Francis    male   \n",
       "3          895       3                              Wirz, Mr. Albert    male   \n",
       "4          896       3  Hirvonen, Mrs. Alexander (Helga E Lindqvist)  female   \n",
       "\n",
       "    Age  SibSp  Parch   Ticket     Fare Cabin Embarked  \n",
       "0  34.5      0      0   330911   7.8292   NaN        Q  \n",
       "1  47.0      1      0   363272   7.0000   NaN        S  \n",
       "2  62.0      0      0   240276   9.6875   NaN        Q  \n",
       "3  27.0      0      0   315154   8.6625   NaN        S  \n",
       "4  22.0      1      1  3101298  12.2875   NaN        S  "
      ]
     },
     "execution_count": 53,
     "metadata": {},
     "output_type": "execute_result"
    }
   ],
   "source": [
    "test.head()\n"
   ]
  },
  {
   "cell_type": "code",
   "execution_count": 54,
   "id": "89ec6d81",
   "metadata": {
    "execution": {
     "iopub.execute_input": "2022-08-01T16:52:23.443570Z",
     "iopub.status.busy": "2022-08-01T16:52:23.442958Z",
     "iopub.status.idle": "2022-08-01T16:52:23.451120Z",
     "shell.execute_reply": "2022-08-01T16:52:23.450428Z"
    },
    "papermill": {
     "duration": 0.029052,
     "end_time": "2022-08-01T16:52:23.452847",
     "exception": false,
     "start_time": "2022-08-01T16:52:23.423795",
     "status": "completed"
    },
    "tags": []
   },
   "outputs": [
    {
     "data": {
      "text/plain": [
       "PassengerId      0\n",
       "Pclass           0\n",
       "Name             0\n",
       "Sex              0\n",
       "Age             86\n",
       "SibSp            0\n",
       "Parch            0\n",
       "Ticket           0\n",
       "Fare             1\n",
       "Cabin          327\n",
       "Embarked         0\n",
       "dtype: int64"
      ]
     },
     "execution_count": 54,
     "metadata": {},
     "output_type": "execute_result"
    }
   ],
   "source": [
    "test.isnull().sum()"
   ]
  },
  {
   "cell_type": "code",
   "execution_count": 55,
   "id": "270f535d",
   "metadata": {
    "execution": {
     "iopub.execute_input": "2022-08-01T16:52:23.492401Z",
     "iopub.status.busy": "2022-08-01T16:52:23.491696Z",
     "iopub.status.idle": "2022-08-01T16:52:23.497603Z",
     "shell.execute_reply": "2022-08-01T16:52:23.496869Z"
    },
    "papermill": {
     "duration": 0.027399,
     "end_time": "2022-08-01T16:52:23.499349",
     "exception": false,
     "start_time": "2022-08-01T16:52:23.471950",
     "status": "completed"
    },
    "tags": []
   },
   "outputs": [],
   "source": [
    "test['Title']=test['Name'].apply(lambda x : x.split(',')[1].split('.')[0])"
   ]
  },
  {
   "cell_type": "code",
   "execution_count": 56,
   "id": "a30423c6",
   "metadata": {
    "execution": {
     "iopub.execute_input": "2022-08-01T16:52:23.538535Z",
     "iopub.status.busy": "2022-08-01T16:52:23.537455Z",
     "iopub.status.idle": "2022-08-01T16:52:23.545025Z",
     "shell.execute_reply": "2022-08-01T16:52:23.544155Z"
    },
    "papermill": {
     "duration": 0.029138,
     "end_time": "2022-08-01T16:52:23.546877",
     "exception": false,
     "start_time": "2022-08-01T16:52:23.517739",
     "status": "completed"
    },
    "tags": []
   },
   "outputs": [
    {
     "data": {
      "text/plain": [
       " Mr        240\n",
       " Miss       78\n",
       " Mrs        72\n",
       " Master     21\n",
       " Col         2\n",
       " Rev         2\n",
       " Ms          1\n",
       " Dr          1\n",
       " Dona        1\n",
       "Name: Title, dtype: int64"
      ]
     },
     "execution_count": 56,
     "metadata": {},
     "output_type": "execute_result"
    }
   ],
   "source": [
    "test['Title'].value_counts()"
   ]
  },
  {
   "cell_type": "code",
   "execution_count": 57,
   "id": "0f175c09",
   "metadata": {
    "execution": {
     "iopub.execute_input": "2022-08-01T16:52:23.586098Z",
     "iopub.status.busy": "2022-08-01T16:52:23.585444Z",
     "iopub.status.idle": "2022-08-01T16:52:23.590801Z",
     "shell.execute_reply": "2022-08-01T16:52:23.589927Z"
    },
    "papermill": {
     "duration": 0.027219,
     "end_time": "2022-08-01T16:52:23.592609",
     "exception": false,
     "start_time": "2022-08-01T16:52:23.565390",
     "status": "completed"
    },
    "tags": []
   },
   "outputs": [
    {
     "data": {
      "text/plain": [
       "' Dona'"
      ]
     },
     "execution_count": 57,
     "metadata": {},
     "output_type": "execute_result"
    }
   ],
   "source": [
    "test['Title'][414]"
   ]
  },
  {
   "cell_type": "code",
   "execution_count": 58,
   "id": "9f28d465",
   "metadata": {
    "execution": {
     "iopub.execute_input": "2022-08-01T16:52:23.631942Z",
     "iopub.status.busy": "2022-08-01T16:52:23.631296Z",
     "iopub.status.idle": "2022-08-01T16:52:23.635925Z",
     "shell.execute_reply": "2022-08-01T16:52:23.635260Z"
    },
    "papermill": {
     "duration": 0.026538,
     "end_time": "2022-08-01T16:52:23.637649",
     "exception": false,
     "start_time": "2022-08-01T16:52:23.611111",
     "status": "completed"
    },
    "tags": []
   },
   "outputs": [],
   "source": [
    "Title_Dictionary2 = {\" Capt\": \"Officer\",\" Col\": \"Officer\",\" Major\": \"Officer\",\" Jonkheer\": \"Royalty\",\n",
    "                    \" Don\": \"Royalty\",\" Sir\" : \"Royalty\",\" Dona\": \"Royalty\",\n",
    "                    \" Dr\": \"Officer\",\" Rev\": \"Officer\",\" the Countess\":\"Royalty\",\" Mme\": \"Mrs\",\" Mlle\": \"Miss\",\n",
    "                    \" Ms\": \"Mrs\",\" Mr\" : \"Mr\",\" Mrs\" : \"Mrs\",\" Miss\" : \"Miss\",\" Master\" : \"Master\",\" Lady\" : \"Royalty\"}"
   ]
  },
  {
   "cell_type": "code",
   "execution_count": 59,
   "id": "5225b137",
   "metadata": {
    "execution": {
     "iopub.execute_input": "2022-08-01T16:52:23.676941Z",
     "iopub.status.busy": "2022-08-01T16:52:23.676329Z",
     "iopub.status.idle": "2022-08-01T16:52:23.681355Z",
     "shell.execute_reply": "2022-08-01T16:52:23.680641Z"
    },
    "papermill": {
     "duration": 0.027042,
     "end_time": "2022-08-01T16:52:23.683367",
     "exception": false,
     "start_time": "2022-08-01T16:52:23.656325",
     "status": "completed"
    },
    "tags": []
   },
   "outputs": [],
   "source": [
    "test['Title']=test['Title'].map(Title_Dictionary2)"
   ]
  },
  {
   "cell_type": "code",
   "execution_count": 60,
   "id": "144f6766",
   "metadata": {
    "execution": {
     "iopub.execute_input": "2022-08-01T16:52:23.723056Z",
     "iopub.status.busy": "2022-08-01T16:52:23.722377Z",
     "iopub.status.idle": "2022-08-01T16:52:23.729455Z",
     "shell.execute_reply": "2022-08-01T16:52:23.728606Z"
    },
    "papermill": {
     "duration": 0.029123,
     "end_time": "2022-08-01T16:52:23.731258",
     "exception": false,
     "start_time": "2022-08-01T16:52:23.702135",
     "status": "completed"
    },
    "tags": []
   },
   "outputs": [
    {
     "data": {
      "text/plain": [
       "Mr         240\n",
       "Miss        78\n",
       "Mrs         73\n",
       "Master      21\n",
       "Officer      5\n",
       "Royalty      1\n",
       "Name: Title, dtype: int64"
      ]
     },
     "execution_count": 60,
     "metadata": {},
     "output_type": "execute_result"
    }
   ],
   "source": [
    "test['Title'].value_counts()"
   ]
  },
  {
   "cell_type": "code",
   "execution_count": 61,
   "id": "bc0a070c",
   "metadata": {
    "execution": {
     "iopub.execute_input": "2022-08-01T16:52:23.775109Z",
     "iopub.status.busy": "2022-08-01T16:52:23.773525Z",
     "iopub.status.idle": "2022-08-01T16:52:23.781108Z",
     "shell.execute_reply": "2022-08-01T16:52:23.780332Z"
    },
    "papermill": {
     "duration": 0.029677,
     "end_time": "2022-08-01T16:52:23.783113",
     "exception": false,
     "start_time": "2022-08-01T16:52:23.753436",
     "status": "completed"
    },
    "tags": []
   },
   "outputs": [],
   "source": [
    "df2=test.drop(['Name','Ticket','Cabin','PassengerId'], axis=1)"
   ]
  },
  {
   "cell_type": "code",
   "execution_count": 62,
   "id": "b8da8e4a",
   "metadata": {
    "execution": {
     "iopub.execute_input": "2022-08-01T16:52:23.822539Z",
     "iopub.status.busy": "2022-08-01T16:52:23.822101Z",
     "iopub.status.idle": "2022-08-01T16:52:23.832007Z",
     "shell.execute_reply": "2022-08-01T16:52:23.830922Z"
    },
    "papermill": {
     "duration": 0.032221,
     "end_time": "2022-08-01T16:52:23.833964",
     "exception": false,
     "start_time": "2022-08-01T16:52:23.801743",
     "status": "completed"
    },
    "tags": []
   },
   "outputs": [
    {
     "data": {
      "text/plain": [
       "Pclass       0\n",
       "Sex          0\n",
       "Age         86\n",
       "SibSp        0\n",
       "Parch        0\n",
       "Fare         1\n",
       "Embarked     0\n",
       "Title        0\n",
       "dtype: int64"
      ]
     },
     "execution_count": 62,
     "metadata": {},
     "output_type": "execute_result"
    }
   ],
   "source": [
    "df2.isnull().sum()"
   ]
  },
  {
   "cell_type": "code",
   "execution_count": 63,
   "id": "b46e604b",
   "metadata": {
    "execution": {
     "iopub.execute_input": "2022-08-01T16:52:23.873469Z",
     "iopub.status.busy": "2022-08-01T16:52:23.873086Z",
     "iopub.status.idle": "2022-08-01T16:52:23.882298Z",
     "shell.execute_reply": "2022-08-01T16:52:23.881549Z"
    },
    "papermill": {
     "duration": 0.031365,
     "end_time": "2022-08-01T16:52:23.884184",
     "exception": false,
     "start_time": "2022-08-01T16:52:23.852819",
     "status": "completed"
    },
    "tags": []
   },
   "outputs": [],
   "source": [
    "dummies_test = pd.get_dummies(df2[['Sex','Title']], drop_first= True)"
   ]
  },
  {
   "cell_type": "code",
   "execution_count": 64,
   "id": "d9882122",
   "metadata": {
    "execution": {
     "iopub.execute_input": "2022-08-01T16:52:23.923332Z",
     "iopub.status.busy": "2022-08-01T16:52:23.922723Z",
     "iopub.status.idle": "2022-08-01T16:52:23.929062Z",
     "shell.execute_reply": "2022-08-01T16:52:23.928369Z"
    },
    "papermill": {
     "duration": 0.028073,
     "end_time": "2022-08-01T16:52:23.930897",
     "exception": false,
     "start_time": "2022-08-01T16:52:23.902824",
     "status": "completed"
    },
    "tags": []
   },
   "outputs": [],
   "source": [
    "df2 = pd.concat([df2, dummies_test], axis=1)"
   ]
  },
  {
   "cell_type": "code",
   "execution_count": 65,
   "id": "537a2522",
   "metadata": {
    "execution": {
     "iopub.execute_input": "2022-08-01T16:52:23.970307Z",
     "iopub.status.busy": "2022-08-01T16:52:23.969656Z",
     "iopub.status.idle": "2022-08-01T16:52:23.976566Z",
     "shell.execute_reply": "2022-08-01T16:52:23.975689Z"
    },
    "papermill": {
     "duration": 0.028722,
     "end_time": "2022-08-01T16:52:23.978632",
     "exception": false,
     "start_time": "2022-08-01T16:52:23.949910",
     "status": "completed"
    },
    "tags": []
   },
   "outputs": [],
   "source": [
    "df2 = df2.drop(['Title',  'Sex'], axis = 1)"
   ]
  },
  {
   "cell_type": "code",
   "execution_count": 66,
   "id": "c8058205",
   "metadata": {
    "execution": {
     "iopub.execute_input": "2022-08-01T16:52:24.018214Z",
     "iopub.status.busy": "2022-08-01T16:52:24.017140Z",
     "iopub.status.idle": "2022-08-01T16:52:24.029742Z",
     "shell.execute_reply": "2022-08-01T16:52:24.028866Z"
    },
    "papermill": {
     "duration": 0.03441,
     "end_time": "2022-08-01T16:52:24.031832",
     "exception": false,
     "start_time": "2022-08-01T16:52:23.997422",
     "status": "completed"
    },
    "tags": []
   },
   "outputs": [],
   "source": [
    "df2['Age']= df2.apply(lambda x : function(x['Age'], x['Sex_male']),axis=1)\n"
   ]
  },
  {
   "cell_type": "code",
   "execution_count": 67,
   "id": "0e3b4987",
   "metadata": {
    "execution": {
     "iopub.execute_input": "2022-08-01T16:52:24.070756Z",
     "iopub.status.busy": "2022-08-01T16:52:24.070030Z",
     "iopub.status.idle": "2022-08-01T16:52:24.078945Z",
     "shell.execute_reply": "2022-08-01T16:52:24.078157Z"
    },
    "papermill": {
     "duration": 0.030376,
     "end_time": "2022-08-01T16:52:24.080772",
     "exception": false,
     "start_time": "2022-08-01T16:52:24.050396",
     "status": "completed"
    },
    "tags": []
   },
   "outputs": [
    {
     "data": {
      "text/plain": [
       "Pclass           0\n",
       "Age              0\n",
       "SibSp            0\n",
       "Parch            0\n",
       "Fare             1\n",
       "Embarked         0\n",
       "Sex_male         0\n",
       "Title_Miss       0\n",
       "Title_Mr         0\n",
       "Title_Mrs        0\n",
       "Title_Officer    0\n",
       "Title_Royalty    0\n",
       "dtype: int64"
      ]
     },
     "execution_count": 67,
     "metadata": {},
     "output_type": "execute_result"
    }
   ],
   "source": [
    "df2.isnull().sum()"
   ]
  },
  {
   "cell_type": "code",
   "execution_count": 68,
   "id": "6881765c",
   "metadata": {
    "execution": {
     "iopub.execute_input": "2022-08-01T16:52:24.120434Z",
     "iopub.status.busy": "2022-08-01T16:52:24.119605Z",
     "iopub.status.idle": "2022-08-01T16:52:24.125360Z",
     "shell.execute_reply": "2022-08-01T16:52:24.124542Z"
    },
    "papermill": {
     "duration": 0.027767,
     "end_time": "2022-08-01T16:52:24.127341",
     "exception": false,
     "start_time": "2022-08-01T16:52:24.099574",
     "status": "completed"
    },
    "tags": []
   },
   "outputs": [],
   "source": [
    "df2['Fare']=df2['Fare'].fillna(df2['Fare'].median())"
   ]
  },
  {
   "cell_type": "code",
   "execution_count": 69,
   "id": "47316b65",
   "metadata": {
    "execution": {
     "iopub.execute_input": "2022-08-01T16:52:24.166780Z",
     "iopub.status.busy": "2022-08-01T16:52:24.166121Z",
     "iopub.status.idle": "2022-08-01T16:52:24.173649Z",
     "shell.execute_reply": "2022-08-01T16:52:24.172924Z"
    },
    "papermill": {
     "duration": 0.029296,
     "end_time": "2022-08-01T16:52:24.175410",
     "exception": false,
     "start_time": "2022-08-01T16:52:24.146114",
     "status": "completed"
    },
    "tags": []
   },
   "outputs": [
    {
     "data": {
      "text/plain": [
       "Pclass           0\n",
       "Age              0\n",
       "SibSp            0\n",
       "Parch            0\n",
       "Fare             0\n",
       "Embarked         0\n",
       "Sex_male         0\n",
       "Title_Miss       0\n",
       "Title_Mr         0\n",
       "Title_Mrs        0\n",
       "Title_Officer    0\n",
       "Title_Royalty    0\n",
       "dtype: int64"
      ]
     },
     "execution_count": 69,
     "metadata": {},
     "output_type": "execute_result"
    }
   ],
   "source": [
    "df2.isnull().sum()"
   ]
  },
  {
   "cell_type": "code",
   "execution_count": 70,
   "id": "3ea5e0e7",
   "metadata": {
    "execution": {
     "iopub.execute_input": "2022-08-01T16:52:24.215591Z",
     "iopub.status.busy": "2022-08-01T16:52:24.214583Z",
     "iopub.status.idle": "2022-08-01T16:52:24.227428Z",
     "shell.execute_reply": "2022-08-01T16:52:24.225816Z"
    },
    "papermill": {
     "duration": 0.035191,
     "end_time": "2022-08-01T16:52:24.229618",
     "exception": false,
     "start_time": "2022-08-01T16:52:24.194427",
     "status": "completed"
    },
    "tags": []
   },
   "outputs": [
    {
     "name": "stdout",
     "output_type": "stream",
     "text": [
      "<class 'pandas.core.frame.DataFrame'>\n",
      "RangeIndex: 418 entries, 0 to 417\n",
      "Data columns (total 12 columns):\n",
      " #   Column         Non-Null Count  Dtype  \n",
      "---  ------         --------------  -----  \n",
      " 0   Pclass         418 non-null    int64  \n",
      " 1   Age            418 non-null    float64\n",
      " 2   SibSp          418 non-null    int64  \n",
      " 3   Parch          418 non-null    int64  \n",
      " 4   Fare           418 non-null    float64\n",
      " 5   Embarked       418 non-null    object \n",
      " 6   Sex_male       418 non-null    uint8  \n",
      " 7   Title_Miss     418 non-null    uint8  \n",
      " 8   Title_Mr       418 non-null    uint8  \n",
      " 9   Title_Mrs      418 non-null    uint8  \n",
      " 10  Title_Officer  418 non-null    uint8  \n",
      " 11  Title_Royalty  418 non-null    uint8  \n",
      "dtypes: float64(2), int64(3), object(1), uint8(6)\n",
      "memory usage: 22.2+ KB\n"
     ]
    }
   ],
   "source": [
    "df2.info()"
   ]
  },
  {
   "cell_type": "code",
   "execution_count": 71,
   "id": "3d0b0e6f",
   "metadata": {
    "execution": {
     "iopub.execute_input": "2022-08-01T16:52:24.269088Z",
     "iopub.status.busy": "2022-08-01T16:52:24.268730Z",
     "iopub.status.idle": "2022-08-01T16:52:24.276526Z",
     "shell.execute_reply": "2022-08-01T16:52:24.275545Z"
    },
    "papermill": {
     "duration": 0.02976,
     "end_time": "2022-08-01T16:52:24.278396",
     "exception": false,
     "start_time": "2022-08-01T16:52:24.248636",
     "status": "completed"
    },
    "tags": []
   },
   "outputs": [
    {
     "data": {
      "text/plain": [
       "Index(['Embarked'], dtype='object')"
      ]
     },
     "execution_count": 71,
     "metadata": {},
     "output_type": "execute_result"
    }
   ],
   "source": [
    "df2.select_dtypes(['object']).columns"
   ]
  },
  {
   "cell_type": "code",
   "execution_count": 72,
   "id": "1b6a0803",
   "metadata": {
    "execution": {
     "iopub.execute_input": "2022-08-01T16:52:24.318944Z",
     "iopub.status.busy": "2022-08-01T16:52:24.318588Z",
     "iopub.status.idle": "2022-08-01T16:52:24.324198Z",
     "shell.execute_reply": "2022-08-01T16:52:24.323231Z"
    },
    "papermill": {
     "duration": 0.028371,
     "end_time": "2022-08-01T16:52:24.326015",
     "exception": false,
     "start_time": "2022-08-01T16:52:24.297644",
     "status": "completed"
    },
    "tags": []
   },
   "outputs": [],
   "source": [
    "dummy_emb_test = pd.get_dummies(df2['Embarked'], drop_first= True)"
   ]
  },
  {
   "cell_type": "code",
   "execution_count": 73,
   "id": "8cbd47c9",
   "metadata": {
    "execution": {
     "iopub.execute_input": "2022-08-01T16:52:24.365677Z",
     "iopub.status.busy": "2022-08-01T16:52:24.365033Z",
     "iopub.status.idle": "2022-08-01T16:52:24.370050Z",
     "shell.execute_reply": "2022-08-01T16:52:24.369328Z"
    },
    "papermill": {
     "duration": 0.026793,
     "end_time": "2022-08-01T16:52:24.371782",
     "exception": false,
     "start_time": "2022-08-01T16:52:24.344989",
     "status": "completed"
    },
    "tags": []
   },
   "outputs": [],
   "source": [
    "df2 = pd.concat([df2, dummy_emb_test], axis=1)"
   ]
  },
  {
   "cell_type": "code",
   "execution_count": 74,
   "id": "fc0ce944",
   "metadata": {
    "execution": {
     "iopub.execute_input": "2022-08-01T16:52:24.411189Z",
     "iopub.status.busy": "2022-08-01T16:52:24.410552Z",
     "iopub.status.idle": "2022-08-01T16:52:24.416091Z",
     "shell.execute_reply": "2022-08-01T16:52:24.415390Z"
    },
    "papermill": {
     "duration": 0.027193,
     "end_time": "2022-08-01T16:52:24.417841",
     "exception": false,
     "start_time": "2022-08-01T16:52:24.390648",
     "status": "completed"
    },
    "tags": []
   },
   "outputs": [],
   "source": [
    "df2 = df2.drop(['Embarked'], axis = 1)"
   ]
  },
  {
   "cell_type": "code",
   "execution_count": 75,
   "id": "48c6cc06",
   "metadata": {
    "execution": {
     "iopub.execute_input": "2022-08-01T16:52:24.457478Z",
     "iopub.status.busy": "2022-08-01T16:52:24.457096Z",
     "iopub.status.idle": "2022-08-01T16:52:24.464835Z",
     "shell.execute_reply": "2022-08-01T16:52:24.463767Z"
    },
    "papermill": {
     "duration": 0.030059,
     "end_time": "2022-08-01T16:52:24.466931",
     "exception": false,
     "start_time": "2022-08-01T16:52:24.436872",
     "status": "completed"
    },
    "tags": []
   },
   "outputs": [
    {
     "data": {
      "text/plain": [
       "Index([], dtype='object')"
      ]
     },
     "execution_count": 75,
     "metadata": {},
     "output_type": "execute_result"
    }
   ],
   "source": [
    "df2.select_dtypes(['object']).columns"
   ]
  },
  {
   "cell_type": "code",
   "execution_count": 76,
   "id": "298e5136",
   "metadata": {
    "execution": {
     "iopub.execute_input": "2022-08-01T16:52:24.507561Z",
     "iopub.status.busy": "2022-08-01T16:52:24.506863Z",
     "iopub.status.idle": "2022-08-01T16:52:24.513732Z",
     "shell.execute_reply": "2022-08-01T16:52:24.513007Z"
    },
    "papermill": {
     "duration": 0.029397,
     "end_time": "2022-08-01T16:52:24.515621",
     "exception": false,
     "start_time": "2022-08-01T16:52:24.486224",
     "status": "completed"
    },
    "tags": []
   },
   "outputs": [],
   "source": [
    "df2.Age = (df2.Age-min(df2.Age))/(max(df2.Age)-min(df2.Age))\n",
    "df2.Fare = (df2.Fare-min(df2.Fare))/(max(df2.Fare)-min(df2.Fare))"
   ]
  },
  {
   "cell_type": "code",
   "execution_count": 77,
   "id": "f93716c6",
   "metadata": {
    "execution": {
     "iopub.execute_input": "2022-08-01T16:52:24.555565Z",
     "iopub.status.busy": "2022-08-01T16:52:24.555167Z",
     "iopub.status.idle": "2022-08-01T16:52:24.572172Z",
     "shell.execute_reply": "2022-08-01T16:52:24.571201Z"
    },
    "papermill": {
     "duration": 0.039597,
     "end_time": "2022-08-01T16:52:24.574235",
     "exception": false,
     "start_time": "2022-08-01T16:52:24.534638",
     "status": "completed"
    },
    "tags": []
   },
   "outputs": [
    {
     "data": {
      "text/html": [
       "<div>\n",
       "<style scoped>\n",
       "    .dataframe tbody tr th:only-of-type {\n",
       "        vertical-align: middle;\n",
       "    }\n",
       "\n",
       "    .dataframe tbody tr th {\n",
       "        vertical-align: top;\n",
       "    }\n",
       "\n",
       "    .dataframe thead th {\n",
       "        text-align: right;\n",
       "    }\n",
       "</style>\n",
       "<table border=\"1\" class=\"dataframe\">\n",
       "  <thead>\n",
       "    <tr style=\"text-align: right;\">\n",
       "      <th></th>\n",
       "      <th>Pclass</th>\n",
       "      <th>Age</th>\n",
       "      <th>SibSp</th>\n",
       "      <th>Parch</th>\n",
       "      <th>Fare</th>\n",
       "      <th>Sex_male</th>\n",
       "      <th>Title_Miss</th>\n",
       "      <th>Title_Mr</th>\n",
       "      <th>Title_Mrs</th>\n",
       "      <th>Title_Officer</th>\n",
       "      <th>Title_Royalty</th>\n",
       "      <th>Q</th>\n",
       "      <th>S</th>\n",
       "    </tr>\n",
       "  </thead>\n",
       "  <tbody>\n",
       "    <tr>\n",
       "      <th>0</th>\n",
       "      <td>3</td>\n",
       "      <td>0.271174</td>\n",
       "      <td>1</td>\n",
       "      <td>0</td>\n",
       "      <td>0.014151</td>\n",
       "      <td>1</td>\n",
       "      <td>0</td>\n",
       "      <td>1</td>\n",
       "      <td>0</td>\n",
       "      <td>0</td>\n",
       "      <td>0</td>\n",
       "      <td>0</td>\n",
       "      <td>1</td>\n",
       "    </tr>\n",
       "    <tr>\n",
       "      <th>1</th>\n",
       "      <td>1</td>\n",
       "      <td>0.472229</td>\n",
       "      <td>1</td>\n",
       "      <td>0</td>\n",
       "      <td>0.139136</td>\n",
       "      <td>0</td>\n",
       "      <td>0</td>\n",
       "      <td>0</td>\n",
       "      <td>1</td>\n",
       "      <td>0</td>\n",
       "      <td>0</td>\n",
       "      <td>0</td>\n",
       "      <td>0</td>\n",
       "    </tr>\n",
       "    <tr>\n",
       "      <th>2</th>\n",
       "      <td>3</td>\n",
       "      <td>0.321438</td>\n",
       "      <td>0</td>\n",
       "      <td>0</td>\n",
       "      <td>0.015469</td>\n",
       "      <td>0</td>\n",
       "      <td>1</td>\n",
       "      <td>0</td>\n",
       "      <td>0</td>\n",
       "      <td>0</td>\n",
       "      <td>0</td>\n",
       "      <td>0</td>\n",
       "      <td>1</td>\n",
       "    </tr>\n",
       "    <tr>\n",
       "      <th>3</th>\n",
       "      <td>1</td>\n",
       "      <td>0.434531</td>\n",
       "      <td>1</td>\n",
       "      <td>0</td>\n",
       "      <td>0.103644</td>\n",
       "      <td>0</td>\n",
       "      <td>0</td>\n",
       "      <td>0</td>\n",
       "      <td>1</td>\n",
       "      <td>0</td>\n",
       "      <td>0</td>\n",
       "      <td>0</td>\n",
       "      <td>1</td>\n",
       "    </tr>\n",
       "    <tr>\n",
       "      <th>4</th>\n",
       "      <td>3</td>\n",
       "      <td>0.434531</td>\n",
       "      <td>0</td>\n",
       "      <td>0</td>\n",
       "      <td>0.015713</td>\n",
       "      <td>1</td>\n",
       "      <td>0</td>\n",
       "      <td>1</td>\n",
       "      <td>0</td>\n",
       "      <td>0</td>\n",
       "      <td>0</td>\n",
       "      <td>0</td>\n",
       "      <td>1</td>\n",
       "    </tr>\n",
       "    <tr>\n",
       "      <th>...</th>\n",
       "      <td>...</td>\n",
       "      <td>...</td>\n",
       "      <td>...</td>\n",
       "      <td>...</td>\n",
       "      <td>...</td>\n",
       "      <td>...</td>\n",
       "      <td>...</td>\n",
       "      <td>...</td>\n",
       "      <td>...</td>\n",
       "      <td>...</td>\n",
       "      <td>...</td>\n",
       "      <td>...</td>\n",
       "      <td>...</td>\n",
       "    </tr>\n",
       "    <tr>\n",
       "      <th>886</th>\n",
       "      <td>2</td>\n",
       "      <td>0.334004</td>\n",
       "      <td>0</td>\n",
       "      <td>0</td>\n",
       "      <td>0.025374</td>\n",
       "      <td>1</td>\n",
       "      <td>0</td>\n",
       "      <td>0</td>\n",
       "      <td>0</td>\n",
       "      <td>1</td>\n",
       "      <td>0</td>\n",
       "      <td>0</td>\n",
       "      <td>1</td>\n",
       "    </tr>\n",
       "    <tr>\n",
       "      <th>887</th>\n",
       "      <td>1</td>\n",
       "      <td>0.233476</td>\n",
       "      <td>0</td>\n",
       "      <td>0</td>\n",
       "      <td>0.058556</td>\n",
       "      <td>0</td>\n",
       "      <td>1</td>\n",
       "      <td>0</td>\n",
       "      <td>0</td>\n",
       "      <td>0</td>\n",
       "      <td>0</td>\n",
       "      <td>0</td>\n",
       "      <td>1</td>\n",
       "    </tr>\n",
       "    <tr>\n",
       "      <th>888</th>\n",
       "      <td>3</td>\n",
       "      <td>0.334004</td>\n",
       "      <td>1</td>\n",
       "      <td>2</td>\n",
       "      <td>0.045771</td>\n",
       "      <td>0</td>\n",
       "      <td>1</td>\n",
       "      <td>0</td>\n",
       "      <td>0</td>\n",
       "      <td>0</td>\n",
       "      <td>0</td>\n",
       "      <td>0</td>\n",
       "      <td>1</td>\n",
       "    </tr>\n",
       "    <tr>\n",
       "      <th>889</th>\n",
       "      <td>1</td>\n",
       "      <td>0.321438</td>\n",
       "      <td>0</td>\n",
       "      <td>0</td>\n",
       "      <td>0.058556</td>\n",
       "      <td>1</td>\n",
       "      <td>0</td>\n",
       "      <td>1</td>\n",
       "      <td>0</td>\n",
       "      <td>0</td>\n",
       "      <td>0</td>\n",
       "      <td>0</td>\n",
       "      <td>0</td>\n",
       "    </tr>\n",
       "    <tr>\n",
       "      <th>890</th>\n",
       "      <td>3</td>\n",
       "      <td>0.396833</td>\n",
       "      <td>0</td>\n",
       "      <td>0</td>\n",
       "      <td>0.015127</td>\n",
       "      <td>1</td>\n",
       "      <td>0</td>\n",
       "      <td>1</td>\n",
       "      <td>0</td>\n",
       "      <td>0</td>\n",
       "      <td>0</td>\n",
       "      <td>1</td>\n",
       "      <td>0</td>\n",
       "    </tr>\n",
       "  </tbody>\n",
       "</table>\n",
       "<p>889 rows × 13 columns</p>\n",
       "</div>"
      ],
      "text/plain": [
       "     Pclass       Age  SibSp  Parch      Fare  Sex_male  Title_Miss  Title_Mr  \\\n",
       "0         3  0.271174      1      0  0.014151         1           0         1   \n",
       "1         1  0.472229      1      0  0.139136         0           0         0   \n",
       "2         3  0.321438      0      0  0.015469         0           1         0   \n",
       "3         1  0.434531      1      0  0.103644         0           0         0   \n",
       "4         3  0.434531      0      0  0.015713         1           0         1   \n",
       "..      ...       ...    ...    ...       ...       ...         ...       ...   \n",
       "886       2  0.334004      0      0  0.025374         1           0         0   \n",
       "887       1  0.233476      0      0  0.058556         0           1         0   \n",
       "888       3  0.334004      1      2  0.045771         0           1         0   \n",
       "889       1  0.321438      0      0  0.058556         1           0         1   \n",
       "890       3  0.396833      0      0  0.015127         1           0         1   \n",
       "\n",
       "     Title_Mrs  Title_Officer  Title_Royalty  Q  S  \n",
       "0            0              0              0  0  1  \n",
       "1            1              0              0  0  0  \n",
       "2            0              0              0  0  1  \n",
       "3            1              0              0  0  1  \n",
       "4            0              0              0  0  1  \n",
       "..         ...            ...            ... .. ..  \n",
       "886          0              1              0  0  1  \n",
       "887          0              0              0  0  1  \n",
       "888          0              0              0  0  1  \n",
       "889          0              0              0  0  0  \n",
       "890          0              0              0  1  0  \n",
       "\n",
       "[889 rows x 13 columns]"
      ]
     },
     "execution_count": 77,
     "metadata": {},
     "output_type": "execute_result"
    }
   ],
   "source": [
    "X"
   ]
  },
  {
   "cell_type": "code",
   "execution_count": 78,
   "id": "dd3f3000",
   "metadata": {
    "execution": {
     "iopub.execute_input": "2022-08-01T16:52:24.615672Z",
     "iopub.status.busy": "2022-08-01T16:52:24.614746Z",
     "iopub.status.idle": "2022-08-01T16:52:24.655734Z",
     "shell.execute_reply": "2022-08-01T16:52:24.654923Z"
    },
    "papermill": {
     "duration": 0.063599,
     "end_time": "2022-08-01T16:52:24.657689",
     "exception": false,
     "start_time": "2022-08-01T16:52:24.594090",
     "status": "completed"
    },
    "tags": []
   },
   "outputs": [
    {
     "data": {
      "text/html": [
       "<div>\n",
       "<style scoped>\n",
       "    .dataframe tbody tr th:only-of-type {\n",
       "        vertical-align: middle;\n",
       "    }\n",
       "\n",
       "    .dataframe tbody tr th {\n",
       "        vertical-align: top;\n",
       "    }\n",
       "\n",
       "    .dataframe thead th {\n",
       "        text-align: right;\n",
       "    }\n",
       "</style>\n",
       "<table border=\"1\" class=\"dataframe\">\n",
       "  <thead>\n",
       "    <tr style=\"text-align: right;\">\n",
       "      <th></th>\n",
       "      <th>Pclass</th>\n",
       "      <th>Age</th>\n",
       "      <th>SibSp</th>\n",
       "      <th>Parch</th>\n",
       "      <th>Fare</th>\n",
       "      <th>Sex_male</th>\n",
       "      <th>Title_Miss</th>\n",
       "      <th>Title_Mr</th>\n",
       "      <th>Title_Mrs</th>\n",
       "      <th>Title_Officer</th>\n",
       "      <th>Title_Royalty</th>\n",
       "      <th>Q</th>\n",
       "      <th>S</th>\n",
       "    </tr>\n",
       "  </thead>\n",
       "  <tbody>\n",
       "    <tr>\n",
       "      <th>count</th>\n",
       "      <td>418.000000</td>\n",
       "      <td>418.000000</td>\n",
       "      <td>418.000000</td>\n",
       "      <td>418.000000</td>\n",
       "      <td>418.000000</td>\n",
       "      <td>418.000000</td>\n",
       "      <td>418.000000</td>\n",
       "      <td>418.000000</td>\n",
       "      <td>418.000000</td>\n",
       "      <td>418.000000</td>\n",
       "      <td>418.000000</td>\n",
       "      <td>418.000000</td>\n",
       "      <td>418.000000</td>\n",
       "    </tr>\n",
       "    <tr>\n",
       "      <th>mean</th>\n",
       "      <td>2.265550</td>\n",
       "      <td>0.391944</td>\n",
       "      <td>0.447368</td>\n",
       "      <td>0.392344</td>\n",
       "      <td>0.069441</td>\n",
       "      <td>0.636364</td>\n",
       "      <td>0.186603</td>\n",
       "      <td>0.574163</td>\n",
       "      <td>0.174641</td>\n",
       "      <td>0.011962</td>\n",
       "      <td>0.002392</td>\n",
       "      <td>0.110048</td>\n",
       "      <td>0.645933</td>\n",
       "    </tr>\n",
       "    <tr>\n",
       "      <th>std</th>\n",
       "      <td>0.841838</td>\n",
       "      <td>0.166999</td>\n",
       "      <td>0.896760</td>\n",
       "      <td>0.981429</td>\n",
       "      <td>0.109012</td>\n",
       "      <td>0.481622</td>\n",
       "      <td>0.390059</td>\n",
       "      <td>0.495062</td>\n",
       "      <td>0.380115</td>\n",
       "      <td>0.108844</td>\n",
       "      <td>0.048912</td>\n",
       "      <td>0.313324</td>\n",
       "      <td>0.478803</td>\n",
       "    </tr>\n",
       "    <tr>\n",
       "      <th>min</th>\n",
       "      <td>1.000000</td>\n",
       "      <td>0.000000</td>\n",
       "      <td>0.000000</td>\n",
       "      <td>0.000000</td>\n",
       "      <td>0.000000</td>\n",
       "      <td>0.000000</td>\n",
       "      <td>0.000000</td>\n",
       "      <td>0.000000</td>\n",
       "      <td>0.000000</td>\n",
       "      <td>0.000000</td>\n",
       "      <td>0.000000</td>\n",
       "      <td>0.000000</td>\n",
       "      <td>0.000000</td>\n",
       "    </tr>\n",
       "    <tr>\n",
       "      <th>25%</th>\n",
       "      <td>1.000000</td>\n",
       "      <td>0.301068</td>\n",
       "      <td>0.000000</td>\n",
       "      <td>0.000000</td>\n",
       "      <td>0.015412</td>\n",
       "      <td>0.000000</td>\n",
       "      <td>0.000000</td>\n",
       "      <td>0.000000</td>\n",
       "      <td>0.000000</td>\n",
       "      <td>0.000000</td>\n",
       "      <td>0.000000</td>\n",
       "      <td>0.000000</td>\n",
       "      <td>0.000000</td>\n",
       "    </tr>\n",
       "    <tr>\n",
       "      <th>50%</th>\n",
       "      <td>3.000000</td>\n",
       "      <td>0.380193</td>\n",
       "      <td>0.000000</td>\n",
       "      <td>0.000000</td>\n",
       "      <td>0.028213</td>\n",
       "      <td>1.000000</td>\n",
       "      <td>0.000000</td>\n",
       "      <td>1.000000</td>\n",
       "      <td>0.000000</td>\n",
       "      <td>0.000000</td>\n",
       "      <td>0.000000</td>\n",
       "      <td>0.000000</td>\n",
       "      <td>1.000000</td>\n",
       "    </tr>\n",
       "    <tr>\n",
       "      <th>75%</th>\n",
       "      <td>3.000000</td>\n",
       "      <td>0.469207</td>\n",
       "      <td>1.000000</td>\n",
       "      <td>0.000000</td>\n",
       "      <td>0.061429</td>\n",
       "      <td>1.000000</td>\n",
       "      <td>0.000000</td>\n",
       "      <td>1.000000</td>\n",
       "      <td>0.000000</td>\n",
       "      <td>0.000000</td>\n",
       "      <td>0.000000</td>\n",
       "      <td>0.000000</td>\n",
       "      <td>1.000000</td>\n",
       "    </tr>\n",
       "    <tr>\n",
       "      <th>max</th>\n",
       "      <td>3.000000</td>\n",
       "      <td>1.000000</td>\n",
       "      <td>8.000000</td>\n",
       "      <td>9.000000</td>\n",
       "      <td>1.000000</td>\n",
       "      <td>1.000000</td>\n",
       "      <td>1.000000</td>\n",
       "      <td>1.000000</td>\n",
       "      <td>1.000000</td>\n",
       "      <td>1.000000</td>\n",
       "      <td>1.000000</td>\n",
       "      <td>1.000000</td>\n",
       "      <td>1.000000</td>\n",
       "    </tr>\n",
       "  </tbody>\n",
       "</table>\n",
       "</div>"
      ],
      "text/plain": [
       "           Pclass         Age       SibSp       Parch        Fare    Sex_male  \\\n",
       "count  418.000000  418.000000  418.000000  418.000000  418.000000  418.000000   \n",
       "mean     2.265550    0.391944    0.447368    0.392344    0.069441    0.636364   \n",
       "std      0.841838    0.166999    0.896760    0.981429    0.109012    0.481622   \n",
       "min      1.000000    0.000000    0.000000    0.000000    0.000000    0.000000   \n",
       "25%      1.000000    0.301068    0.000000    0.000000    0.015412    0.000000   \n",
       "50%      3.000000    0.380193    0.000000    0.000000    0.028213    1.000000   \n",
       "75%      3.000000    0.469207    1.000000    0.000000    0.061429    1.000000   \n",
       "max      3.000000    1.000000    8.000000    9.000000    1.000000    1.000000   \n",
       "\n",
       "       Title_Miss    Title_Mr   Title_Mrs  Title_Officer  Title_Royalty  \\\n",
       "count  418.000000  418.000000  418.000000     418.000000     418.000000   \n",
       "mean     0.186603    0.574163    0.174641       0.011962       0.002392   \n",
       "std      0.390059    0.495062    0.380115       0.108844       0.048912   \n",
       "min      0.000000    0.000000    0.000000       0.000000       0.000000   \n",
       "25%      0.000000    0.000000    0.000000       0.000000       0.000000   \n",
       "50%      0.000000    1.000000    0.000000       0.000000       0.000000   \n",
       "75%      0.000000    1.000000    0.000000       0.000000       0.000000   \n",
       "max      1.000000    1.000000    1.000000       1.000000       1.000000   \n",
       "\n",
       "                Q           S  \n",
       "count  418.000000  418.000000  \n",
       "mean     0.110048    0.645933  \n",
       "std      0.313324    0.478803  \n",
       "min      0.000000    0.000000  \n",
       "25%      0.000000    0.000000  \n",
       "50%      0.000000    1.000000  \n",
       "75%      0.000000    1.000000  \n",
       "max      1.000000    1.000000  "
      ]
     },
     "execution_count": 78,
     "metadata": {},
     "output_type": "execute_result"
    }
   ],
   "source": [
    "df2.describe()"
   ]
  },
  {
   "cell_type": "code",
   "execution_count": 79,
   "id": "a4fcba30",
   "metadata": {
    "execution": {
     "iopub.execute_input": "2022-08-01T16:52:24.699481Z",
     "iopub.status.busy": "2022-08-01T16:52:24.699103Z",
     "iopub.status.idle": "2022-08-01T16:52:24.706110Z",
     "shell.execute_reply": "2022-08-01T16:52:24.704935Z"
    },
    "papermill": {
     "duration": 0.030153,
     "end_time": "2022-08-01T16:52:24.708226",
     "exception": false,
     "start_time": "2022-08-01T16:52:24.678073",
     "status": "completed"
    },
    "tags": []
   },
   "outputs": [],
   "source": [
    "predictions = model.predict(df2)"
   ]
  },
  {
   "cell_type": "code",
   "execution_count": 80,
   "id": "fe577f66",
   "metadata": {
    "execution": {
     "iopub.execute_input": "2022-08-01T16:52:24.750043Z",
     "iopub.status.busy": "2022-08-01T16:52:24.749639Z",
     "iopub.status.idle": "2022-08-01T16:52:24.756188Z",
     "shell.execute_reply": "2022-08-01T16:52:24.755303Z"
    },
    "papermill": {
     "duration": 0.029868,
     "end_time": "2022-08-01T16:52:24.758018",
     "exception": false,
     "start_time": "2022-08-01T16:52:24.728150",
     "status": "completed"
    },
    "tags": []
   },
   "outputs": [
    {
     "data": {
      "text/plain": [
       "array([0, 1, 0, 0, 1, 0, 1, 0, 1, 0, 0, 0, 1, 0, 1, 1, 0, 0, 1, 1, 0, 1,\n",
       "       1, 0, 1, 0, 1, 0, 0, 0, 0, 0, 0, 1, 0, 0, 1, 1, 0, 0, 0, 0, 0, 1,\n",
       "       1, 0, 0, 0, 1, 1, 0, 0, 1, 1, 0, 0, 0, 0, 0, 1, 0, 0, 0, 1, 1, 1,\n",
       "       1, 0, 0, 1, 1, 0, 1, 0, 1, 1, 0, 1, 0, 1, 0, 0, 0, 0, 0, 0, 1, 1,\n",
       "       1, 1, 1, 0, 1, 0, 0, 0, 1, 0, 1, 0, 1, 0, 0, 0, 1, 0, 0, 0, 0, 0,\n",
       "       0, 1, 1, 1, 1, 0, 0, 1, 0, 1, 1, 0, 1, 0, 0, 1, 0, 0, 0, 0, 0, 1,\n",
       "       1, 0, 0, 0, 0, 0, 1, 0, 0, 1, 0, 0, 0, 0, 0, 0, 0, 0, 1, 0, 0, 1,\n",
       "       0, 0, 1, 1, 0, 1, 1, 0, 1, 0, 0, 1, 0, 0, 1, 1, 0, 0, 0, 0, 0, 1,\n",
       "       1, 0, 1, 1, 0, 0, 1, 0, 1, 0, 1, 0, 0, 0, 0, 0, 0, 0, 1, 0, 1, 1,\n",
       "       0, 1, 1, 1, 1, 1, 0, 0, 1, 0, 1, 0, 0, 0, 0, 1, 0, 0, 1, 0, 1, 0,\n",
       "       1, 0, 1, 0, 1, 1, 0, 1, 0, 0, 0, 1, 0, 0, 0, 0, 0, 0, 1, 1, 1, 1,\n",
       "       0, 0, 0, 0, 1, 0, 1, 1, 1, 0, 0, 0, 0, 0, 0, 0, 1, 0, 0, 0, 1, 1,\n",
       "       0, 0, 0, 0, 1, 0, 0, 0, 1, 1, 0, 1, 0, 0, 0, 0, 1, 0, 1, 1, 1, 0,\n",
       "       0, 0, 0, 0, 0, 1, 0, 0, 0, 0, 1, 0, 0, 0, 0, 0, 0, 0, 1, 1, 0, 1,\n",
       "       0, 1, 0, 0, 0, 1, 1, 1, 0, 0, 0, 0, 0, 0, 0, 0, 1, 0, 1, 0, 0, 0,\n",
       "       1, 0, 0, 1, 0, 0, 0, 0, 0, 1, 0, 0, 0, 1, 0, 1, 0, 1, 0, 1, 1, 0,\n",
       "       0, 0, 1, 0, 1, 0, 0, 1, 0, 1, 1, 0, 1, 0, 0, 1, 1, 0, 0, 1, 0, 0,\n",
       "       1, 1, 0, 0, 0, 0, 0, 0, 1, 1, 0, 1, 0, 0, 0, 0, 0, 1, 0, 0, 0, 1,\n",
       "       0, 1, 0, 0, 1, 0, 1, 0, 0, 0, 0, 0, 1, 1, 1, 1, 1, 0, 1, 0, 0, 0])"
      ]
     },
     "execution_count": 80,
     "metadata": {},
     "output_type": "execute_result"
    }
   ],
   "source": [
    "predictions"
   ]
  },
  {
   "cell_type": "code",
   "execution_count": 81,
   "id": "ee88ffed",
   "metadata": {
    "execution": {
     "iopub.execute_input": "2022-08-01T16:52:24.799575Z",
     "iopub.status.busy": "2022-08-01T16:52:24.798815Z",
     "iopub.status.idle": "2022-08-01T16:52:24.808027Z",
     "shell.execute_reply": "2022-08-01T16:52:24.807035Z"
    },
    "papermill": {
     "duration": 0.032282,
     "end_time": "2022-08-01T16:52:24.810231",
     "exception": false,
     "start_time": "2022-08-01T16:52:24.777949",
     "status": "completed"
    },
    "tags": []
   },
   "outputs": [],
   "source": [
    "submission = pd.DataFrame({\n",
    "        \"PassengerId\": test[\"PassengerId\"],\n",
    "        \"Survived\": predictions\n",
    "    })\n",
    "submission.to_csv('titanic4.csv', index=False)"
   ]
  },
  {
   "cell_type": "code",
   "execution_count": null,
   "id": "42c20b0a",
   "metadata": {
    "papermill": {
     "duration": 0.019595,
     "end_time": "2022-08-01T16:52:24.849785",
     "exception": false,
     "start_time": "2022-08-01T16:52:24.830190",
     "status": "completed"
    },
    "tags": []
   },
   "outputs": [],
   "source": []
  }
 ],
 "metadata": {
  "kernelspec": {
   "display_name": "Python 3",
   "language": "python",
   "name": "python3"
  },
  "language_info": {
   "codemirror_mode": {
    "name": "ipython",
    "version": 3
   },
   "file_extension": ".py",
   "mimetype": "text/x-python",
   "name": "python",
   "nbconvert_exporter": "python",
   "pygments_lexer": "ipython3",
   "version": "3.7.12"
  },
  "papermill": {
   "default_parameters": {},
   "duration": 15.061531,
   "end_time": "2022-08-01T16:52:25.589959",
   "environment_variables": {},
   "exception": null,
   "input_path": "__notebook__.ipynb",
   "output_path": "__notebook__.ipynb",
   "parameters": {},
   "start_time": "2022-08-01T16:52:10.528428",
   "version": "2.3.4"
  }
 },
 "nbformat": 4,
 "nbformat_minor": 5
}
